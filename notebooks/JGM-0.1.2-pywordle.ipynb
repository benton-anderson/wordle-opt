{
 "cells": [
  {
   "cell_type": "code",
   "execution_count": 1,
   "metadata": {},
   "outputs": [],
   "source": [
    "import random\n",
    "import pandas as pd\n",
    "import numpy as np"
   ]
  },
  {
   "cell_type": "code",
   "execution_count": 2,
   "metadata": {},
   "outputs": [],
   "source": [
    "all_words = ['PROOF', 'GUESS', 'TRIAL', 'PROVE','ROOFS']"
   ]
  },
  {
   "cell_type": "code",
   "execution_count": 131,
   "metadata": {},
   "outputs": [
    {
     "name": "stdout",
     "output_type": "stream",
     "text": [
      "     word       count\n",
      "25  WHICH  3140226612\n",
      "33  THEIR  2152980325\n",
      "40  THERE  1623700147\n",
      "46  WOULD  1472811049\n",
      "51  OTHER  1383185827\n"
     ]
    }
   ],
   "source": [
    "# read in word list \n",
    "word_df=pd.read_csv('5-letter.csv', index_col=0)\n",
    "print(word_df.head())\n",
    "word_list = word_df.word.to_list()\n",
    "#print(word_list)"
   ]
  },
  {
   "cell_type": "code",
   "execution_count": 132,
   "metadata": {},
   "outputs": [
    {
     "data": {
      "text/plain": [
       "(array([5047], dtype=int64),)"
      ]
     },
     "execution_count": 132,
     "metadata": {},
     "output_type": "execute_result"
    }
   ],
   "source": [
    "# check the rank of a word \n",
    "np.where(word_df.word=='CORED')"
   ]
  },
  {
   "cell_type": "code",
   "execution_count": 152,
   "metadata": {},
   "outputs": [],
   "source": [
    "class Wordle:\n",
    "    def __init__(self, word=None, n_guesses=6, n_letters=5, all_words=['PROOF','SHEAR','BUMPY']):\n",
    "        if word == None:\n",
    "            self.word = random.sample(set(all_words), 1)[0]\n",
    "        else:\n",
    "            self.word = word.upper()\n",
    "        self.n_guesses = n_guesses\n",
    "        self.n_letters = n_letters\n",
    "        self.guess_counter = n_guesses\n",
    "        self.greens = [None] * self.n_letters \n",
    "        self.current_yellows = [None] * self.n_letters\n",
    "        self.yellows = {i: [] for i in range(self.n_letters)}\n",
    "        self.guessed_words = []\n",
    "        self.all_words = all_words\n",
    "        self.absent_letters = []\n",
    "        self.present_letters = []\n",
    "        self.correct_positions = [None] * self.n_letters # greens would be differnt per guess, remember correct positions\n",
    "        \n",
    "    def try_word (self, guess):\n",
    "        # need to add a check for not doing anything if the word is already guessed correctly\n",
    "        guess = guess.upper()\n",
    "        self.current_yellows = [None]* self.n_letters # yellows have to reset each time\n",
    "        self.greens = [None] * self.n_letters\n",
    "        print('guessed: ', guess)\n",
    "        if not len(guess) == self.n_letters:\n",
    "            raise ValueError('wrong word length')\n",
    "        if guess not in self.all_words:\n",
    "            raise ValueError('invalid word')\n",
    "        if guess in self.guessed_words:\n",
    "            raise ValueError('word already guessed')\n",
    "        self.guessed_words.append(guess)\n",
    "        # c_g = character_guess,  c_w = character_word\n",
    "        for i, (c_g, c_w) in enumerate(zip(guess, self.word)):\n",
    "            if c_g == c_w:\n",
    "                self.greens[i] = c_g\n",
    "                self.correct_positions[i] = c_g\n",
    "            # Check for number of non-None in greens list \n",
    "            if sum(bool(char) for char in self.greens) == self.n_letters:\n",
    "                return 'victory! word is: ' + self.word\n",
    "            if c_g in self.word and c_g != c_w:\n",
    "                self.yellows[i].append(c_g)\n",
    "                self.current_yellows[i] = c_g\n",
    "            if c_g in self.word: # track the letters that are there for the AI later\n",
    "                self.present_letters.append(c_g)\n",
    "            if c_g not in self.word: # track letters that are not there for the AI\n",
    "                self.absent_letters.append(c_g)\n",
    "        self.guess_counter -= 1\n",
    "        if self.guess_counter == 0:\n",
    "            return ('Loser! Word is:' + str(self.word))\n",
    "        print('Greens:' + str(self.greens) + \n",
    "              '\\nYellows: ' + str(self.yellows) + \n",
    "              '\\nGuesses left: ' + str(self.guess_counter))\n",
    "        grn_sum = sum([x!=None for x in self.greens])\n",
    "        yel_sum = sum([x!=None for x in self.current_yellows])\n",
    "        return grn_sum, yel_sum # return number of greens and number of yellows\n",
    "        "
   ]
  },
  {
   "cell_type": "code",
   "execution_count": 153,
   "metadata": {},
   "outputs": [],
   "source": [
    "### show that it works with wordlist from google books "
   ]
  },
  {
   "cell_type": "code",
   "execution_count": 154,
   "metadata": {},
   "outputs": [],
   "source": [
    "w = Wordle(all_words=word_list)"
   ]
  },
  {
   "cell_type": "code",
   "execution_count": 155,
   "metadata": {},
   "outputs": [
    {
     "name": "stdout",
     "output_type": "stream",
     "text": [
      "guessed:  SAINT\n",
      "Greens:[None, 'A', None, None, None]\n",
      "Yellows: {0: ['S'], 1: [], 2: [], 3: [], 4: []}\n",
      "Guesses left: 5\n"
     ]
    }
   ],
   "source": [
    "w.try_word('SAINT')"
   ]
  },
  {
   "cell_type": "code",
   "execution_count": 156,
   "metadata": {},
   "outputs": [
    {
     "data": {
      "text/plain": [
       "['I', 'N', 'T']"
      ]
     },
     "execution_count": 156,
     "metadata": {},
     "output_type": "execute_result"
    }
   ],
   "source": [
    "w.absent_letters"
   ]
  },
  {
   "cell_type": "code",
   "execution_count": 157,
   "metadata": {},
   "outputs": [
    {
     "data": {
      "text/plain": [
       "[None, 'A', None, None, None]"
      ]
     },
     "execution_count": 157,
     "metadata": {},
     "output_type": "execute_result"
    }
   ],
   "source": [
    "w.correct_positions"
   ]
  },
  {
   "cell_type": "code",
   "execution_count": 158,
   "metadata": {},
   "outputs": [
    {
     "data": {
      "text/plain": [
       "{0: ['S'], 1: [], 2: [], 3: [], 4: []}"
      ]
     },
     "execution_count": 158,
     "metadata": {},
     "output_type": "execute_result"
    }
   ],
   "source": [
    "w.yellows"
   ]
  },
  {
   "cell_type": "code",
   "execution_count": null,
   "metadata": {},
   "outputs": [],
   "source": []
  },
  {
   "cell_type": "code",
   "execution_count": 146,
   "metadata": {},
   "outputs": [
    {
     "name": "stdout",
     "output_type": "stream",
     "text": [
      "guessed:  CORED\n",
      "Greens:['S', None, None, 'N', 'T']\n",
      "Yellows: {0: ['C'], 1: [], 2: [], 3: [], 4: []}\n",
      "Guesses left: 4\n"
     ]
    }
   ],
   "source": [
    "w.try_word('CORED')"
   ]
  },
  {
   "cell_type": "code",
   "execution_count": 147,
   "metadata": {},
   "outputs": [
    {
     "name": "stdout",
     "output_type": "stream",
     "text": [
      "guessed:  BULKY\n",
      "Greens:['S', None, None, 'N', 'T']\n",
      "Yellows: {0: [], 1: [], 2: [], 3: [], 4: []}\n",
      "Guesses left: 3\n"
     ]
    }
   ],
   "source": [
    "w.try_word('BULKY')"
   ]
  },
  {
   "cell_type": "code",
   "execution_count": 148,
   "metadata": {},
   "outputs": [
    {
     "data": {
      "text/plain": [
       "['I', 'O', 'R', 'E', 'D', 'B', 'U', 'L', 'K', 'Y']"
      ]
     },
     "execution_count": 148,
     "metadata": {},
     "output_type": "execute_result"
    }
   ],
   "source": [
    "w.absent_letters"
   ]
  },
  {
   "cell_type": "code",
   "execution_count": 150,
   "metadata": {},
   "outputs": [
    {
     "data": {
      "text/plain": [
       "['S', 'A', 'N', 'T', 'C']"
      ]
     },
     "execution_count": 150,
     "metadata": {},
     "output_type": "execute_result"
    }
   ],
   "source": [
    "w.present_letters\n"
   ]
  },
  {
   "cell_type": "code",
   "execution_count": 151,
   "metadata": {},
   "outputs": [
    {
     "name": "stdout",
     "output_type": "stream",
     "text": [
      "guessed:  FAVOR\n",
      "Greens:['S', None, None, 'N', 'T']\n",
      "Yellows: {0: [], 1: ['A'], 2: [], 3: [], 4: []}\n",
      "Guesses left: 2\n"
     ]
    }
   ],
   "source": [
    "w.try_word('FAVOR')"
   ]
  },
  {
   "cell_type": "code",
   "execution_count": 127,
   "metadata": {},
   "outputs": [
    {
     "data": {
      "text/plain": [
       "[None, 'O', 'L', None, None]"
      ]
     },
     "execution_count": 127,
     "metadata": {},
     "output_type": "execute_result"
    }
   ],
   "source": [
    "w.greens"
   ]
  },
  {
   "cell_type": "code",
   "execution_count": 91,
   "metadata": {},
   "outputs": [
    {
     "data": {
      "text/plain": [
       "['B', 'M', 'P', 'Y', 'A', 'V', 'O', 'R']"
      ]
     },
     "execution_count": 91,
     "metadata": {},
     "output_type": "execute_result"
    }
   ],
   "source": [
    "w.absent_letters"
   ]
  },
  {
   "cell_type": "code",
   "execution_count": null,
   "metadata": {},
   "outputs": [],
   "source": []
  }
 ],
 "metadata": {
  "kernelspec": {
   "display_name": "Python 3",
   "language": "python",
   "name": "python3"
  },
  "language_info": {
   "codemirror_mode": {
    "name": "ipython",
    "version": 3
   },
   "file_extension": ".py",
   "mimetype": "text/x-python",
   "name": "python",
   "nbconvert_exporter": "python",
   "pygments_lexer": "ipython3",
   "version": "3.7.7"
  }
 },
 "nbformat": 4,
 "nbformat_minor": 2
}

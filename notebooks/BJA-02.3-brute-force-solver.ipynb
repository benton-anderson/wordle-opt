{
 "cells": [
  {
   "cell_type": "code",
   "execution_count": 10,
   "metadata": {},
   "outputs": [],
   "source": [
    "import json\n",
    "import random\n",
    "import os\n",
    "import sys\n",
    "module_path = os.path.abspath(os.path.join('..'))\n",
    "if module_path not in sys.path:\n",
    "    sys.path.append(module_path)\n",
    "\n",
    "import pandas as pd\n",
    "import matplotlib.pyplot as plt\n",
    "\n",
    "from src.Wordle import Wordle"
   ]
  },
  {
   "cell_type": "code",
   "execution_count": 118,
   "metadata": {},
   "outputs": [],
   "source": [
    "with open(r'..\\data\\processed\\wordle_words.json') as infile:\n",
    "    word_list = json.load(infile)\n",
    "word_list = [word.upper() for word in word_list]"
   ]
  },
  {
   "cell_type": "code",
   "execution_count": 56,
   "metadata": {},
   "outputs": [
    {
     "data": {
      "text/html": [
       "<div>\n",
       "<style scoped>\n",
       "    .dataframe tbody tr th:only-of-type {\n",
       "        vertical-align: middle;\n",
       "    }\n",
       "\n",
       "    .dataframe tbody tr th {\n",
       "        vertical-align: top;\n",
       "    }\n",
       "\n",
       "    .dataframe thead th {\n",
       "        text-align: right;\n",
       "    }\n",
       "</style>\n",
       "<table border=\"1\" class=\"dataframe\">\n",
       "  <thead>\n",
       "    <tr style=\"text-align: right;\">\n",
       "      <th></th>\n",
       "      <th>0</th>\n",
       "      <th>1</th>\n",
       "      <th>2</th>\n",
       "      <th>3</th>\n",
       "      <th>4</th>\n",
       "    </tr>\n",
       "  </thead>\n",
       "  <tbody>\n",
       "    <tr>\n",
       "      <td>0</td>\n",
       "      <td>C</td>\n",
       "      <td>I</td>\n",
       "      <td>G</td>\n",
       "      <td>A</td>\n",
       "      <td>R</td>\n",
       "    </tr>\n",
       "    <tr>\n",
       "      <td>1</td>\n",
       "      <td>R</td>\n",
       "      <td>E</td>\n",
       "      <td>B</td>\n",
       "      <td>U</td>\n",
       "      <td>T</td>\n",
       "    </tr>\n",
       "    <tr>\n",
       "      <td>2</td>\n",
       "      <td>S</td>\n",
       "      <td>I</td>\n",
       "      <td>S</td>\n",
       "      <td>S</td>\n",
       "      <td>Y</td>\n",
       "    </tr>\n",
       "    <tr>\n",
       "      <td>3</td>\n",
       "      <td>H</td>\n",
       "      <td>U</td>\n",
       "      <td>M</td>\n",
       "      <td>P</td>\n",
       "      <td>H</td>\n",
       "    </tr>\n",
       "    <tr>\n",
       "      <td>4</td>\n",
       "      <td>A</td>\n",
       "      <td>W</td>\n",
       "      <td>A</td>\n",
       "      <td>K</td>\n",
       "      <td>E</td>\n",
       "    </tr>\n",
       "    <tr>\n",
       "      <td>...</td>\n",
       "      <td>...</td>\n",
       "      <td>...</td>\n",
       "      <td>...</td>\n",
       "      <td>...</td>\n",
       "      <td>...</td>\n",
       "    </tr>\n",
       "    <tr>\n",
       "      <td>12967</td>\n",
       "      <td>Z</td>\n",
       "      <td>U</td>\n",
       "      <td>Z</td>\n",
       "      <td>I</td>\n",
       "      <td>M</td>\n",
       "    </tr>\n",
       "    <tr>\n",
       "      <td>12968</td>\n",
       "      <td>Z</td>\n",
       "      <td>Y</td>\n",
       "      <td>G</td>\n",
       "      <td>A</td>\n",
       "      <td>L</td>\n",
       "    </tr>\n",
       "    <tr>\n",
       "      <td>12969</td>\n",
       "      <td>Z</td>\n",
       "      <td>Y</td>\n",
       "      <td>G</td>\n",
       "      <td>O</td>\n",
       "      <td>N</td>\n",
       "    </tr>\n",
       "    <tr>\n",
       "      <td>12970</td>\n",
       "      <td>Z</td>\n",
       "      <td>Y</td>\n",
       "      <td>M</td>\n",
       "      <td>E</td>\n",
       "      <td>S</td>\n",
       "    </tr>\n",
       "    <tr>\n",
       "      <td>12971</td>\n",
       "      <td>Z</td>\n",
       "      <td>Y</td>\n",
       "      <td>M</td>\n",
       "      <td>I</td>\n",
       "      <td>C</td>\n",
       "    </tr>\n",
       "  </tbody>\n",
       "</table>\n",
       "<p>12972 rows × 5 columns</p>\n",
       "</div>"
      ],
      "text/plain": [
       "       0  1  2  3  4\n",
       "0      C  I  G  A  R\n",
       "1      R  E  B  U  T\n",
       "2      S  I  S  S  Y\n",
       "3      H  U  M  P  H\n",
       "4      A  W  A  K  E\n",
       "...   .. .. .. .. ..\n",
       "12967  Z  U  Z  I  M\n",
       "12968  Z  Y  G  A  L\n",
       "12969  Z  Y  G  O  N\n",
       "12970  Z  Y  M  E  S\n",
       "12971  Z  Y  M  I  C\n",
       "\n",
       "[12972 rows x 5 columns]"
      ]
     },
     "execution_count": 56,
     "metadata": {},
     "output_type": "execute_result"
    }
   ],
   "source": [
    "chardf = pd.DataFrame([list(word.upper()) for word in word_list]).dropna(axis=1)\n",
    "chardf"
   ]
  },
  {
   "cell_type": "code",
   "execution_count": 181,
   "metadata": {},
   "outputs": [],
   "source": [
    "class Wordle:\n",
    "    def __init__(self, word=None, n_guesses=6, n_letters=5, all_words=word_list, ben_mode=False):\n",
    "        self.ben_mode = ben_mode\n",
    "        if word == None:\n",
    "            self.word = random.sample(set(all_words), 1)[0]\n",
    "        else:\n",
    "            self.word = word.upper()\n",
    "        self.n_guesses = n_guesses\n",
    "        self.n_letters = n_letters\n",
    "        self.guess_counter = n_guesses\n",
    "        self.greens = [None] * self.n_letters \n",
    "        self.current_yellows = [None] * self.n_letters\n",
    "        self.yellows_pos = {i: [] for i in range(self.n_letters)}\n",
    "        self.guessed_words = []\n",
    "        self.all_words = [word.upper() for word in all_words]\n",
    "        self.absent_letters = []\n",
    "        self.present_letters = []\n",
    "        self.correct_positions = [None] * self.n_letters # greens would be differnt per guess, remember correct positions\n",
    "        self.state = None\n",
    "        self.qstate = [0] * self.n_letters\n",
    "        self.tmp_qstate = [0] * self.n_letters\n",
    "        self.win = False\n",
    "        self.yellowlist = []\n",
    "        \n",
    "    def try_word(self, guess):\n",
    "        # need to add a check for not doing anything if the word is already guessed correctly\n",
    "        guess = guess.upper()\n",
    "        self.state = None\n",
    "        self.current_yellows = [None] * self.n_letters \n",
    "        self.current_greens = [None] * self.n_letters\n",
    "        self.tmp_qstate = [0] * self.n_letters\n",
    "        \n",
    "        if not self.ben_mode: print('guessed: ', guess)\n",
    "        if not len(guess) == self.n_letters:\n",
    "            raise ValueError('wrong word length')\n",
    "        if guess not in self.all_words:\n",
    "            raise ValueError('invalid word')\n",
    "        if guess in self.guessed_words:\n",
    "            raise ValueError('word already guessed')\n",
    "        self.guessed_words.append(guess)\n",
    "        # c_g = character_guess,  c_w = character_word\n",
    "        for i, (c_g, c_w) in enumerate(zip(guess, self.word)):\n",
    "            if c_g == c_w:\n",
    "                self.greens[i] = c_g\n",
    "                self.correct_positions[i] = c_g\n",
    "                self.qstate[i] = 1\n",
    "                self.tmp_qstate[i] = 1\n",
    "            # Check for number of non-None in greens list \n",
    "            if sum(bool(char) for char in self.greens) == self.n_letters:\n",
    "                self.state = True\n",
    "                self.win = True\n",
    "                print('victory! word is: ' + self.word) \n",
    "                grn_sum = sum([x!=None for x in self.greens])\n",
    "                yel_sum = sum([x!=None for x in self.current_yellows])\n",
    "                \n",
    "                if self.ben_mode:\n",
    "                    return self.ben_mode_return()\n",
    "                else:\n",
    "                    return grn_sum, yel_sum\n",
    "            if c_g in self.word and c_g != c_w:\n",
    "                self.yellows_pos[i].append(c_g)\n",
    "                self.current_yellows[i] = c_g\n",
    "                if c_g not in self.yellowlist:\n",
    "                    self.yellowlist += c_g\n",
    "            if c_g in self.word: # track the letters that are there for the AI later\n",
    "                self.present_letters.append(c_g)\n",
    "            if c_g not in self.word: # track letters that are not there for the AI\n",
    "                self.absent_letters.append(c_g)\n",
    "        self.guess_counter -= 1\n",
    "        grn_sum = sum([x!=None for x in self.greens])\n",
    "        yel_sum = sum([x!=None for x in self.current_yellows])\n",
    "        \n",
    "        if self.guess_counter == 0:\n",
    "            self.state=True\n",
    "            self.win = False\n",
    "            if not self.ben_mode: print(\"YOU LOSE-TOO MANY GUESSES\")\n",
    "            if self.ben_mode:\n",
    "                return self.ben_mode_return()\n",
    "            else:\n",
    "                return grn_sum, yel_sum # return number of greens and number of yellows\n",
    "        if not self.ben_mode: \n",
    "            print('Greens:' + str(self.greens) + \n",
    "                  '\\nYellows: ' + str(self.yellows_pos) + \n",
    "                  '\\nGuesses left: ' + str(self.guess_counter))\n",
    "        \n",
    "        if self.ben_mode:\n",
    "            return self.ben_mode_return()\n",
    "        else:\n",
    "            return grn_sum, yel_sum # return number of greens and number of yellows\n",
    "    \n",
    "    def ben_mode_return(self):\n",
    "        return self.greens, self.yellowlist, self.absent_letters"
   ]
  },
  {
   "cell_type": "code",
   "execution_count": 132,
   "metadata": {},
   "outputs": [],
   "source": [
    "w = Wordle('chafe', ben_mode=True)"
   ]
  },
  {
   "cell_type": "code",
   "execution_count": 133,
   "metadata": {},
   "outputs": [
    {
     "data": {
      "text/plain": [
       "([None, None, 'A', None, 'E'], ['F'], ['L', 'M'])"
      ]
     },
     "execution_count": 133,
     "metadata": {},
     "output_type": "execute_result"
    }
   ],
   "source": [
    "w.try_word('flame')"
   ]
  },
  {
   "cell_type": "code",
   "execution_count": 37,
   "metadata": {},
   "outputs": [
    {
     "data": {
      "text/plain": [
       "(False,\n",
       " [None, None, 'A', None, 'E'],\n",
       " ['H', 'E', 'F'],\n",
       " {0: ['H', 'F'], 1: ['E'], 2: [], 3: [], 4: []})"
      ]
     },
     "execution_count": 37,
     "metadata": {},
     "output_type": "execute_result"
    }
   ],
   "source": [
    "# w.try_word('hello')"
   ]
  },
  {
   "cell_type": "code",
   "execution_count": 136,
   "metadata": {},
   "outputs": [],
   "source": [
    "def word_filter(output, word_list=word_list):\n",
    "    \"\"\"\n",
    "    Takes in output from Wordle class and filters the list of words for possible corrects.\n",
    "    Uses chardf (pandas DF separated one char per column) for easy filtering\n",
    "    Returns list of words that could work. \n",
    "    \"\"\"\n",
    "    \n",
    "    greens, yellows, absent_letters = output\n",
    "    \n",
    "    absent_filter = []\n",
    "    for word in word_list:\n",
    "        if not any(letter in word for letter in absent_letters):\n",
    "            absent_filter.append(word)\n",
    "    \n",
    "    yellow_filter = []\n",
    "    for word in absent_filter:\n",
    "        if all(letter in word for letter in yellows):  # checks for presence of yellows in all words\n",
    "            yellow_filter.append(word)\n",
    "            \n",
    "    final = []\n",
    "    for word in yellow_filter: \n",
    "        if all(letter == word[i] for i, letter in enumerate(greens) if letter is not None):\n",
    "            final.append(word)\n",
    "        \n",
    "    return final"
   ]
  },
  {
   "cell_type": "code",
   "execution_count": 137,
   "metadata": {},
   "outputs": [],
   "source": [
    "test = ([None, None, 'A', None, 'E'], ['F'], ['L', 'M'])"
   ]
  },
  {
   "cell_type": "code",
   "execution_count": 186,
   "metadata": {},
   "outputs": [
    {
     "data": {
      "text/plain": [
       "['CHAFE', 'FEARE', 'FEASE', 'FEAZE', 'FRAPE', 'FRATE', 'NEAFE']"
      ]
     },
     "execution_count": 186,
     "metadata": {},
     "output_type": "execute_result"
    }
   ],
   "source": [
    "word_filter(test)"
   ]
  },
  {
   "cell_type": "code",
   "execution_count": 187,
   "metadata": {
    "scrolled": true
   },
   "outputs": [
    {
     "name": "stdout",
     "output_type": "stream",
     "text": [
      "victory! word is: CORNY\n",
      "victory! word is: CORNY\n",
      "victory! word is: SAINT\n",
      "victory! word is: SAINT\n",
      "victory! word is: SAINT\n",
      "victory! word is: SAINT\n",
      "victory! word is: SHIED\n",
      "victory! word is: BURNT\n",
      "victory! word is: BURNT\n",
      "victory! word is: SULKY\n",
      "victory! word is: SULKY\n",
      "victory! word is: WHINY\n",
      "victory! word is: SHINY\n",
      "victory! word is: BALMY\n",
      "victory! word is: BULKY\n",
      "victory! word is: BULKY\n",
      "victory! word is: BALED\n",
      "victory! word is: BALED\n",
      "victory! word is: BALKY\n",
      "victory! word is: BALKY\n",
      "victory! word is: BARED\n",
      "victory! word is: BARED\n",
      "victory! word is: BARKY\n",
      "victory! word is: BARKY\n",
      "victory! word is: BARMY\n",
      "victory! word is: BARNY\n",
      "victory! word is: BARNY\n",
      "victory! word is: BOOED\n",
      "victory! word is: BOOKY\n",
      "victory! word is: BOOMY\n",
      "victory! word is: BORED\n",
      "victory! word is: BORED\n",
      "victory! word is: BURET\n",
      "victory! word is: BURET\n",
      "victory! word is: CALMY\n",
      "victory! word is: CARED\n",
      "victory! word is: CARED\n",
      "victory! word is: CARED\n",
      "victory! word is: CARET\n",
      "victory! word is: CARET\n",
      "victory! word is: CARET\n",
      "victory! word is: CARNY\n",
      "victory! word is: CARNY\n",
      "victory! word is: CHIMP\n",
      "victory! word is: CHOKY\n",
      "victory! word is: CHOMP\n",
      "victory! word is: COLED\n",
      "victory! word is: COLED\n",
      "victory! word is: COLEY\n",
      "victory! word is: COLEY\n",
      "victory! word is: COOED\n",
      "victory! word is: COOEY\n",
      "victory! word is: COOKY\n",
      "victory! word is: COOMY\n",
      "victory! word is: CORED\n",
      "victory! word is: CORED\n",
      "victory! word is: CORED\n",
      "victory! word is: COREY\n",
      "victory! word is: COREY\n",
      "victory! word is: CORKY\n",
      "victory! word is: CORKY\n",
      "victory! word is: CULET\n",
      "victory! word is: CULET\n",
      "victory! word is: CURED\n",
      "victory! word is: CURED\n",
      "victory! word is: CURET\n",
      "victory! word is: CURET\n",
      "victory! word is: CURNY\n",
      "victory! word is: CURNY\n",
      "victory! word is: SALEP\n",
      "victory! word is: SALET\n",
      "victory! word is: SALET\n",
      "victory! word is: SARED\n",
      "victory! word is: SARED\n",
      "victory! word is: SARED\n",
      "victory! word is: SARKY\n",
      "victory! word is: SARKY\n",
      "victory! word is: SHLEP\n",
      "victory! word is: SHOED\n",
      "victory! word is: SHRED\n",
      "victory! word is: SOLED\n",
      "victory! word is: SOLED\n",
      "victory! word is: SOOEY\n",
      "victory! word is: SOOKY\n",
      "victory! word is: SORED\n",
      "victory! word is: SORED\n",
      "victory! word is: SORED\n",
      "victory! word is: SUINT\n",
      "victory! word is: SUINT\n",
      "victory! word is: SURED\n",
      "victory! word is: SURED\n",
      "victory! word is: WALED\n",
      "victory! word is: WARED\n",
      "victory! word is: WHOMP\n",
      "victory! word is: WOOED\n",
      "victory! word is: WORMY\n"
     ]
    }
   ],
   "source": [
    "result = []\n",
    "\n",
    "for word in word_list:\n",
    "    w = Wordle(word, ben_mode=True)\n",
    "    w.try_word('SAINT')\n",
    "    w.try_word('CORED')\n",
    "    w.try_word('BULKY')\n",
    "    f = word_filter(w.try_word('WHOMP'))\n",
    "    result.append((len(f), f))"
   ]
  },
  {
   "cell_type": "code",
   "execution_count": 188,
   "metadata": {
    "scrolled": true
   },
   "outputs": [
    {
     "data": {
      "text/html": [
       "<div>\n",
       "<style scoped>\n",
       "    .dataframe tbody tr th:only-of-type {\n",
       "        vertical-align: middle;\n",
       "    }\n",
       "\n",
       "    .dataframe tbody tr th {\n",
       "        vertical-align: top;\n",
       "    }\n",
       "\n",
       "    .dataframe thead th {\n",
       "        text-align: right;\n",
       "    }\n",
       "</style>\n",
       "<table border=\"1\" class=\"dataframe\">\n",
       "  <thead>\n",
       "    <tr style=\"text-align: right;\">\n",
       "      <th></th>\n",
       "      <th>num_poss</th>\n",
       "      <th>poss_words</th>\n",
       "    </tr>\n",
       "    <tr>\n",
       "      <th>w</th>\n",
       "      <th></th>\n",
       "      <th></th>\n",
       "    </tr>\n",
       "  </thead>\n",
       "  <tbody>\n",
       "    <tr>\n",
       "      <td>ALEFS</td>\n",
       "      <td>32</td>\n",
       "      <td>[SLAVE, FALSE, EASEL, LEASE, SALVE, ALEFS, AVE...</td>\n",
       "    </tr>\n",
       "    <tr>\n",
       "      <td>LEASE</td>\n",
       "      <td>32</td>\n",
       "      <td>[SLAVE, FALSE, EASEL, LEASE, SALVE, ALEFS, AVE...</td>\n",
       "    </tr>\n",
       "    <tr>\n",
       "      <td>AXELS</td>\n",
       "      <td>32</td>\n",
       "      <td>[SLAVE, FALSE, EASEL, LEASE, SALVE, ALEFS, AVE...</td>\n",
       "    </tr>\n",
       "    <tr>\n",
       "      <td>ZEALS</td>\n",
       "      <td>32</td>\n",
       "      <td>[SLAVE, FALSE, EASEL, LEASE, SALVE, ALEFS, AVE...</td>\n",
       "    </tr>\n",
       "    <tr>\n",
       "      <td>ERASE</td>\n",
       "      <td>32</td>\n",
       "      <td>[SAFER, ERASE, AGERS, AREAS, ARSES, AVERS, EAS...</td>\n",
       "    </tr>\n",
       "    <tr>\n",
       "      <td>AVELS</td>\n",
       "      <td>32</td>\n",
       "      <td>[SLAVE, FALSE, EASEL, LEASE, SALVE, ALEFS, AVE...</td>\n",
       "    </tr>\n",
       "    <tr>\n",
       "      <td>FEARS</td>\n",
       "      <td>32</td>\n",
       "      <td>[SAFER, ERASE, AGERS, AREAS, ARSES, AVERS, EAS...</td>\n",
       "    </tr>\n",
       "    <tr>\n",
       "      <td>GEARS</td>\n",
       "      <td>32</td>\n",
       "      <td>[SAFER, ERASE, AGERS, AREAS, ARSES, AVERS, EAS...</td>\n",
       "    </tr>\n",
       "    <tr>\n",
       "      <td>FEALS</td>\n",
       "      <td>32</td>\n",
       "      <td>[SLAVE, FALSE, EASEL, LEASE, SALVE, ALEFS, AVE...</td>\n",
       "    </tr>\n",
       "    <tr>\n",
       "      <td>REARS</td>\n",
       "      <td>32</td>\n",
       "      <td>[SAFER, ERASE, AGERS, AREAS, ARSES, AVERS, EAS...</td>\n",
       "    </tr>\n",
       "    <tr>\n",
       "      <td>VEALS</td>\n",
       "      <td>32</td>\n",
       "      <td>[SLAVE, FALSE, EASEL, LEASE, SALVE, ALEFS, AVE...</td>\n",
       "    </tr>\n",
       "    <tr>\n",
       "      <td>LEVAS</td>\n",
       "      <td>32</td>\n",
       "      <td>[SLAVE, FALSE, EASEL, LEASE, SALVE, ALEFS, AVE...</td>\n",
       "    </tr>\n",
       "    <tr>\n",
       "      <td>LEAFS</td>\n",
       "      <td>32</td>\n",
       "      <td>[SLAVE, FALSE, EASEL, LEASE, SALVE, ALEFS, AVE...</td>\n",
       "    </tr>\n",
       "    <tr>\n",
       "      <td>GEALS</td>\n",
       "      <td>32</td>\n",
       "      <td>[SLAVE, FALSE, EASEL, LEASE, SALVE, ALEFS, AVE...</td>\n",
       "    </tr>\n",
       "    <tr>\n",
       "      <td>AREAS</td>\n",
       "      <td>32</td>\n",
       "      <td>[SAFER, ERASE, AGERS, AREAS, ARSES, AVERS, EAS...</td>\n",
       "    </tr>\n",
       "    <tr>\n",
       "      <td>AGERS</td>\n",
       "      <td>32</td>\n",
       "      <td>[SAFER, ERASE, AGERS, AREAS, ARSES, AVERS, EAS...</td>\n",
       "    </tr>\n",
       "    <tr>\n",
       "      <td>FLEAS</td>\n",
       "      <td>32</td>\n",
       "      <td>[SLAVE, FALSE, EASEL, LEASE, SALVE, ALEFS, AVE...</td>\n",
       "    </tr>\n",
       "    <tr>\n",
       "      <td>AVERS</td>\n",
       "      <td>32</td>\n",
       "      <td>[SAFER, ERASE, AGERS, AREAS, ARSES, AVERS, EAS...</td>\n",
       "    </tr>\n",
       "    <tr>\n",
       "      <td>REAVE</td>\n",
       "      <td>31</td>\n",
       "      <td>[AGREE, GRAVE, GRAZE, GAZER, EAGER, RARER, AFE...</td>\n",
       "    </tr>\n",
       "    <tr>\n",
       "      <td>REGAR</td>\n",
       "      <td>31</td>\n",
       "      <td>[AGREE, GRAVE, GRAZE, GAZER, EAGER, RARER, AFE...</td>\n",
       "    </tr>\n",
       "    <tr>\n",
       "      <td>ARERE</td>\n",
       "      <td>31</td>\n",
       "      <td>[AGREE, GRAVE, GRAZE, GAZER, EAGER, RARER, AFE...</td>\n",
       "    </tr>\n",
       "    <tr>\n",
       "      <td>EGGAR</td>\n",
       "      <td>31</td>\n",
       "      <td>[AGREE, GRAVE, GRAZE, GAZER, EAGER, RARER, AFE...</td>\n",
       "    </tr>\n",
       "    <tr>\n",
       "      <td>AREAE</td>\n",
       "      <td>31</td>\n",
       "      <td>[AGREE, GRAVE, GRAZE, GAZER, EAGER, RARER, AFE...</td>\n",
       "    </tr>\n",
       "    <tr>\n",
       "      <td>GEARE</td>\n",
       "      <td>31</td>\n",
       "      <td>[AGREE, GRAVE, GRAZE, GAZER, EAGER, RARER, AFE...</td>\n",
       "    </tr>\n",
       "    <tr>\n",
       "      <td>GRAZE</td>\n",
       "      <td>31</td>\n",
       "      <td>[AGREE, GRAVE, GRAZE, GAZER, EAGER, RARER, AFE...</td>\n",
       "    </tr>\n",
       "    <tr>\n",
       "      <td>AREAR</td>\n",
       "      <td>31</td>\n",
       "      <td>[AGREE, GRAVE, GRAZE, GAZER, EAGER, RARER, AFE...</td>\n",
       "    </tr>\n",
       "    <tr>\n",
       "      <td>AFEAR</td>\n",
       "      <td>31</td>\n",
       "      <td>[AGREE, GRAVE, GRAZE, GAZER, EAGER, RARER, AFE...</td>\n",
       "    </tr>\n",
       "    <tr>\n",
       "      <td>FEARE</td>\n",
       "      <td>31</td>\n",
       "      <td>[AGREE, GRAVE, GRAZE, GAZER, EAGER, RARER, AFE...</td>\n",
       "    </tr>\n",
       "    <tr>\n",
       "      <td>GRAVE</td>\n",
       "      <td>31</td>\n",
       "      <td>[AGREE, GRAVE, GRAZE, GAZER, EAGER, RARER, AFE...</td>\n",
       "    </tr>\n",
       "    <tr>\n",
       "      <td>ETATS</td>\n",
       "      <td>30</td>\n",
       "      <td>[TEASE, ASSET, STAGE, FEAST, TASTE, STAVE, STA...</td>\n",
       "    </tr>\n",
       "    <tr>\n",
       "      <td>TEATS</td>\n",
       "      <td>30</td>\n",
       "      <td>[TEASE, ASSET, STAGE, FEAST, TASTE, STAVE, STA...</td>\n",
       "    </tr>\n",
       "    <tr>\n",
       "      <td>TESTA</td>\n",
       "      <td>30</td>\n",
       "      <td>[TEASE, ASSET, STAGE, FEAST, TASTE, STAVE, STA...</td>\n",
       "    </tr>\n",
       "    <tr>\n",
       "      <td>JEATS</td>\n",
       "      <td>30</td>\n",
       "      <td>[TEASE, ASSET, STAGE, FEAST, TASTE, STAVE, STA...</td>\n",
       "    </tr>\n",
       "    <tr>\n",
       "      <td>ZETAS</td>\n",
       "      <td>30</td>\n",
       "      <td>[TEASE, ASSET, STAGE, FEAST, TASTE, STAVE, STA...</td>\n",
       "    </tr>\n",
       "    <tr>\n",
       "      <td>TEASE</td>\n",
       "      <td>30</td>\n",
       "      <td>[TEASE, ASSET, STAGE, FEAST, TASTE, STAVE, STA...</td>\n",
       "    </tr>\n",
       "    <tr>\n",
       "      <td>GETAS</td>\n",
       "      <td>30</td>\n",
       "      <td>[TEASE, ASSET, STAGE, FEAST, TASTE, STAVE, STA...</td>\n",
       "    </tr>\n",
       "    <tr>\n",
       "      <td>FEATS</td>\n",
       "      <td>30</td>\n",
       "      <td>[TEASE, ASSET, STAGE, FEAST, TASTE, STAVE, STA...</td>\n",
       "    </tr>\n",
       "    <tr>\n",
       "      <td>TEXAS</td>\n",
       "      <td>30</td>\n",
       "      <td>[TEASE, ASSET, STAGE, FEAST, TASTE, STAVE, STA...</td>\n",
       "    </tr>\n",
       "    <tr>\n",
       "      <td>FETAS</td>\n",
       "      <td>30</td>\n",
       "      <td>[TEASE, ASSET, STAGE, FEAST, TASTE, STAVE, STA...</td>\n",
       "    </tr>\n",
       "    <tr>\n",
       "      <td>FESTA</td>\n",
       "      <td>30</td>\n",
       "      <td>[TEASE, ASSET, STAGE, FEAST, TASTE, STAVE, STA...</td>\n",
       "    </tr>\n",
       "    <tr>\n",
       "      <td>GEATS</td>\n",
       "      <td>30</td>\n",
       "      <td>[TEASE, ASSET, STAGE, FEAST, TASTE, STAVE, STA...</td>\n",
       "    </tr>\n",
       "    <tr>\n",
       "      <td>VESTA</td>\n",
       "      <td>30</td>\n",
       "      <td>[TEASE, ASSET, STAGE, FEAST, TASTE, STAVE, STA...</td>\n",
       "    </tr>\n",
       "    <tr>\n",
       "      <td>EGERS</td>\n",
       "      <td>29</td>\n",
       "      <td>[SERVE, SEVER, VERSE, EGERS, EREVS, ERSES, FEE...</td>\n",
       "    </tr>\n",
       "    <tr>\n",
       "      <td>JEERS</td>\n",
       "      <td>29</td>\n",
       "      <td>[SERVE, SEVER, VERSE, EGERS, EREVS, ERSES, FEE...</td>\n",
       "    </tr>\n",
       "    <tr>\n",
       "      <td>EREVS</td>\n",
       "      <td>29</td>\n",
       "      <td>[SERVE, SEVER, VERSE, EGERS, EREVS, ERSES, FEE...</td>\n",
       "    </tr>\n",
       "    <tr>\n",
       "      <td>REEFS</td>\n",
       "      <td>29</td>\n",
       "      <td>[SERVE, SEVER, VERSE, EGERS, EREVS, ERSES, FEE...</td>\n",
       "    </tr>\n",
       "    <tr>\n",
       "      <td>GRESE</td>\n",
       "      <td>29</td>\n",
       "      <td>[SERVE, SEVER, VERSE, EGERS, EREVS, ERSES, FEE...</td>\n",
       "    </tr>\n",
       "    <tr>\n",
       "      <td>VEERS</td>\n",
       "      <td>29</td>\n",
       "      <td>[SERVE, SEVER, VERSE, EGERS, EREVS, ERSES, FEE...</td>\n",
       "    </tr>\n",
       "    <tr>\n",
       "      <td>FEERS</td>\n",
       "      <td>29</td>\n",
       "      <td>[SERVE, SEVER, VERSE, EGERS, EREVS, ERSES, FEE...</td>\n",
       "    </tr>\n",
       "    <tr>\n",
       "      <td>REATA</td>\n",
       "      <td>28</td>\n",
       "      <td>[GREAT, TREAT, GRATE, AVERT, EATER, AFTER, TER...</td>\n",
       "    </tr>\n",
       "  </tbody>\n",
       "</table>\n",
       "</div>"
      ],
      "text/plain": [
       "       num_poss                                         poss_words\n",
       "w                                                                 \n",
       "ALEFS        32  [SLAVE, FALSE, EASEL, LEASE, SALVE, ALEFS, AVE...\n",
       "LEASE        32  [SLAVE, FALSE, EASEL, LEASE, SALVE, ALEFS, AVE...\n",
       "AXELS        32  [SLAVE, FALSE, EASEL, LEASE, SALVE, ALEFS, AVE...\n",
       "ZEALS        32  [SLAVE, FALSE, EASEL, LEASE, SALVE, ALEFS, AVE...\n",
       "ERASE        32  [SAFER, ERASE, AGERS, AREAS, ARSES, AVERS, EAS...\n",
       "AVELS        32  [SLAVE, FALSE, EASEL, LEASE, SALVE, ALEFS, AVE...\n",
       "FEARS        32  [SAFER, ERASE, AGERS, AREAS, ARSES, AVERS, EAS...\n",
       "GEARS        32  [SAFER, ERASE, AGERS, AREAS, ARSES, AVERS, EAS...\n",
       "FEALS        32  [SLAVE, FALSE, EASEL, LEASE, SALVE, ALEFS, AVE...\n",
       "REARS        32  [SAFER, ERASE, AGERS, AREAS, ARSES, AVERS, EAS...\n",
       "VEALS        32  [SLAVE, FALSE, EASEL, LEASE, SALVE, ALEFS, AVE...\n",
       "LEVAS        32  [SLAVE, FALSE, EASEL, LEASE, SALVE, ALEFS, AVE...\n",
       "LEAFS        32  [SLAVE, FALSE, EASEL, LEASE, SALVE, ALEFS, AVE...\n",
       "GEALS        32  [SLAVE, FALSE, EASEL, LEASE, SALVE, ALEFS, AVE...\n",
       "AREAS        32  [SAFER, ERASE, AGERS, AREAS, ARSES, AVERS, EAS...\n",
       "AGERS        32  [SAFER, ERASE, AGERS, AREAS, ARSES, AVERS, EAS...\n",
       "FLEAS        32  [SLAVE, FALSE, EASEL, LEASE, SALVE, ALEFS, AVE...\n",
       "AVERS        32  [SAFER, ERASE, AGERS, AREAS, ARSES, AVERS, EAS...\n",
       "REAVE        31  [AGREE, GRAVE, GRAZE, GAZER, EAGER, RARER, AFE...\n",
       "REGAR        31  [AGREE, GRAVE, GRAZE, GAZER, EAGER, RARER, AFE...\n",
       "ARERE        31  [AGREE, GRAVE, GRAZE, GAZER, EAGER, RARER, AFE...\n",
       "EGGAR        31  [AGREE, GRAVE, GRAZE, GAZER, EAGER, RARER, AFE...\n",
       "AREAE        31  [AGREE, GRAVE, GRAZE, GAZER, EAGER, RARER, AFE...\n",
       "GEARE        31  [AGREE, GRAVE, GRAZE, GAZER, EAGER, RARER, AFE...\n",
       "GRAZE        31  [AGREE, GRAVE, GRAZE, GAZER, EAGER, RARER, AFE...\n",
       "AREAR        31  [AGREE, GRAVE, GRAZE, GAZER, EAGER, RARER, AFE...\n",
       "AFEAR        31  [AGREE, GRAVE, GRAZE, GAZER, EAGER, RARER, AFE...\n",
       "FEARE        31  [AGREE, GRAVE, GRAZE, GAZER, EAGER, RARER, AFE...\n",
       "GRAVE        31  [AGREE, GRAVE, GRAZE, GAZER, EAGER, RARER, AFE...\n",
       "ETATS        30  [TEASE, ASSET, STAGE, FEAST, TASTE, STAVE, STA...\n",
       "TEATS        30  [TEASE, ASSET, STAGE, FEAST, TASTE, STAVE, STA...\n",
       "TESTA        30  [TEASE, ASSET, STAGE, FEAST, TASTE, STAVE, STA...\n",
       "JEATS        30  [TEASE, ASSET, STAGE, FEAST, TASTE, STAVE, STA...\n",
       "ZETAS        30  [TEASE, ASSET, STAGE, FEAST, TASTE, STAVE, STA...\n",
       "TEASE        30  [TEASE, ASSET, STAGE, FEAST, TASTE, STAVE, STA...\n",
       "GETAS        30  [TEASE, ASSET, STAGE, FEAST, TASTE, STAVE, STA...\n",
       "FEATS        30  [TEASE, ASSET, STAGE, FEAST, TASTE, STAVE, STA...\n",
       "TEXAS        30  [TEASE, ASSET, STAGE, FEAST, TASTE, STAVE, STA...\n",
       "FETAS        30  [TEASE, ASSET, STAGE, FEAST, TASTE, STAVE, STA...\n",
       "FESTA        30  [TEASE, ASSET, STAGE, FEAST, TASTE, STAVE, STA...\n",
       "GEATS        30  [TEASE, ASSET, STAGE, FEAST, TASTE, STAVE, STA...\n",
       "VESTA        30  [TEASE, ASSET, STAGE, FEAST, TASTE, STAVE, STA...\n",
       "EGERS        29  [SERVE, SEVER, VERSE, EGERS, EREVS, ERSES, FEE...\n",
       "JEERS        29  [SERVE, SEVER, VERSE, EGERS, EREVS, ERSES, FEE...\n",
       "EREVS        29  [SERVE, SEVER, VERSE, EGERS, EREVS, ERSES, FEE...\n",
       "REEFS        29  [SERVE, SEVER, VERSE, EGERS, EREVS, ERSES, FEE...\n",
       "GRESE        29  [SERVE, SEVER, VERSE, EGERS, EREVS, ERSES, FEE...\n",
       "VEERS        29  [SERVE, SEVER, VERSE, EGERS, EREVS, ERSES, FEE...\n",
       "FEERS        29  [SERVE, SEVER, VERSE, EGERS, EREVS, ERSES, FEE...\n",
       "REATA        28  [GREAT, TREAT, GRATE, AVERT, EATER, AFTER, TER..."
      ]
     },
     "execution_count": 188,
     "metadata": {},
     "output_type": "execute_result"
    }
   ],
   "source": [
    "rdf = pd.DataFrame(result)\n",
    "rdf.columns = ['num_poss', 'poss_words']\n",
    "rdf['w'] = word_list\n",
    "rdf = rdf.set_index('w')\n",
    "rdf.sort_values('num_poss', ascending=False).head(50)"
   ]
  },
  {
   "cell_type": "code",
   "execution_count": 199,
   "metadata": {},
   "outputs": [
    {
     "name": "stdout",
     "output_type": "stream",
     "text": [
      "Total number of possible words:  35966\n",
      "Average number of possibilities per word:  2.77\n"
     ]
    }
   ],
   "source": [
    "print('Total number of possible words: ', rdf['num_poss'].sum())\n",
    "print('Average number of possibilities per word: ', round(rdf['num_poss'].sum() / len(word_list), 2))"
   ]
  },
  {
   "cell_type": "code",
   "execution_count": 213,
   "metadata": {},
   "outputs": [
    {
     "data": {
      "text/plain": [
       "12972"
      ]
     },
     "execution_count": 213,
     "metadata": {},
     "output_type": "execute_result"
    }
   ],
   "source": [
    "len(word_list)"
   ]
  },
  {
   "cell_type": "code",
   "execution_count": 220,
   "metadata": {},
   "outputs": [
    {
     "data": {
      "text/plain": [
       "Text(0.5, 1.0, 'Number of possible remaining correct words after SAINT CORED BULKY WHOMP\\nusing all 12972 words')"
      ]
     },
     "execution_count": 220,
     "metadata": {},
     "output_type": "execute_result"
    },
    {
     "data": {
      "image/png": "[encoded data removed]",
      "text/plain": [
       "<Figure size 1008x576 with 1 Axes>"
      ]
     },
     "metadata": {
      "needs_background": "light"
     },
     "output_type": "display_data"
    }
   ],
   "source": [
    "# plt.xlim((0, 50))\n",
    "rdf['num_poss'].hist(bins=31)\n",
    "plt.gcf().set_size_inches((14, 8))\n",
    "ax = plt.gca()\n",
    "ax.grid(alpha=0)\n",
    "plt.xlim((0.5, 33))\n",
    "plt.xticks(ticks=[x + 0.5 for x in range(1, 33, 1)], labels=[x for x in range(1, 33, 1)])\n",
    "plt.yticks(ticks=[x for x in range(0, 7000, 500)])\n",
    "plt.title('Number of possible remaining correct words after SAINT CORED BULKY WHOMP\\nusing all 12972 words', fontsize=20)\n",
    "# plt.ylabel('count')"
   ]
  },
  {
   "cell_type": "markdown",
   "metadata": {},
   "source": [
    "## To compare the 4-word SAINT CORED BULKY WHOMP to a random baseline, perform random sampling of words "
   ]
  },
  {
   "cell_type": "code",
   "execution_count": null,
   "metadata": {},
   "outputs": [],
   "source": []
  },
  {
   "cell_type": "code",
   "execution_count": null,
   "metadata": {},
   "outputs": [],
   "source": []
  },
  {
   "cell_type": "code",
   "execution_count": null,
   "metadata": {},
   "outputs": [],
   "source": []
  },
  {
   "cell_type": "code",
   "execution_count": null,
   "metadata": {},
   "outputs": [],
   "source": []
  },
  {
   "cell_type": "code",
   "execution_count": null,
   "metadata": {},
   "outputs": [],
   "source": []
  },
  {
   "cell_type": "code",
   "execution_count": null,
   "metadata": {},
   "outputs": [],
   "source": []
  },
  {
   "cell_type": "code",
   "execution_count": null,
   "metadata": {},
   "outputs": [],
   "source": []
  },
  {
   "cell_type": "code",
   "execution_count": null,
   "metadata": {},
   "outputs": [],
   "source": []
  },
  {
   "cell_type": "code",
   "execution_count": null,
   "metadata": {},
   "outputs": [],
   "source": []
  },
  {
   "cell_type": "code",
   "execution_count": 182,
   "metadata": {},
   "outputs": [
    {
     "name": "stdout",
     "output_type": "stream",
     "text": [
      "guessed:  SAINT\n",
      "Greens:[None, 'A', None, None, None]\n",
      "Yellows: {0: ['S'], 1: [], 2: [], 3: [], 4: []}\n",
      "Guesses left: 5\n"
     ]
    },
    {
     "data": {
      "text/plain": [
       "(1, 1)"
      ]
     },
     "execution_count": 182,
     "metadata": {},
     "output_type": "execute_result"
    }
   ],
   "source": [
    "w = Wordle('RARES')\n",
    "w.try_word('SAINT')"
   ]
  },
  {
   "cell_type": "code",
   "execution_count": 183,
   "metadata": {},
   "outputs": [
    {
     "name": "stdout",
     "output_type": "stream",
     "text": [
      "guessed:  CORED\n",
      "Greens:[None, 'A', 'R', 'E', None]\n",
      "Yellows: {0: ['S'], 1: [], 2: [], 3: [], 4: []}\n",
      "Guesses left: 4\n"
     ]
    },
    {
     "data": {
      "text/plain": [
       "(3, 0)"
      ]
     },
     "execution_count": 183,
     "metadata": {},
     "output_type": "execute_result"
    }
   ],
   "source": [
    "w.try_word('CORED')"
   ]
  },
  {
   "cell_type": "code",
   "execution_count": 184,
   "metadata": {},
   "outputs": [
    {
     "name": "stdout",
     "output_type": "stream",
     "text": [
      "guessed:  BULKY\n",
      "Greens:[None, 'A', 'R', 'E', None]\n",
      "Yellows: {0: ['S'], 1: [], 2: [], 3: [], 4: []}\n",
      "Guesses left: 3\n"
     ]
    },
    {
     "data": {
      "text/plain": [
       "(3, 0)"
      ]
     },
     "execution_count": 184,
     "metadata": {},
     "output_type": "execute_result"
    }
   ],
   "source": [
    "w.try_word('BULKY')"
   ]
  },
  {
   "cell_type": "code",
   "execution_count": 185,
   "metadata": {},
   "outputs": [
    {
     "name": "stdout",
     "output_type": "stream",
     "text": [
      "guessed:  WHOMP\n",
      "Greens:[None, 'A', 'R', 'E', None]\n",
      "Yellows: {0: ['S'], 1: [], 2: [], 3: [], 4: []}\n",
      "Guesses left: 2\n"
     ]
    },
    {
     "data": {
      "text/plain": [
       "(3, 0)"
      ]
     },
     "execution_count": 185,
     "metadata": {},
     "output_type": "execute_result"
    }
   ],
   "source": [
    "w.try_word('whomp')"
   ]
  },
  {
   "cell_type": "code",
   "execution_count": null,
   "metadata": {},
   "outputs": [],
   "source": []
  },
  {
   "cell_type": "code",
   "execution_count": null,
   "metadata": {},
   "outputs": [],
   "source": []
  },
  {
   "cell_type": "code",
   "execution_count": null,
   "metadata": {},
   "outputs": [],
   "source": []
  },
  {
   "cell_type": "code",
   "execution_count": null,
   "metadata": {},
   "outputs": [],
   "source": []
  },
  {
   "cell_type": "code",
   "execution_count": null,
   "metadata": {},
   "outputs": [],
   "source": []
  },
  {
   "cell_type": "code",
   "execution_count": null,
   "metadata": {},
   "outputs": [],
   "source": []
  },
  {
   "cell_type": "code",
   "execution_count": null,
   "metadata": {},
   "outputs": [],
   "source": []
  },
  {
   "cell_type": "code",
   "execution_count": null,
   "metadata": {},
   "outputs": [],
   "source": []
  },
  {
   "cell_type": "code",
   "execution_count": null,
   "metadata": {},
   "outputs": [],
   "source": []
  },
  {
   "cell_type": "code",
   "execution_count": null,
   "metadata": {},
   "outputs": [],
   "source": []
  },
  {
   "cell_type": "code",
   "execution_count": null,
   "metadata": {},
   "outputs": [],
   "source": []
  },
  {
   "cell_type": "code",
   "execution_count": null,
   "metadata": {},
   "outputs": [],
   "source": []
  },
  {
   "cell_type": "code",
   "execution_count": null,
   "metadata": {},
   "outputs": [],
   "source": []
  },
  {
   "cell_type": "code",
   "execution_count": null,
   "metadata": {},
   "outputs": [],
   "source": []
  },
  {
   "cell_type": "code",
   "execution_count": null,
   "metadata": {},
   "outputs": [],
   "source": []
  }
 ],
 "metadata": {
  "kernelspec": {
   "display_name": "Python 3",
   "language": "python",
   "name": "python3"
  },
  "language_info": {
   "codemirror_mode": {
    "name": "ipython",
    "version": 3
   },
   "file_extension": ".py",
   "mimetype": "text/x-python",
   "name": "python",
   "nbconvert_exporter": "python",
   "pygments_lexer": "ipython3",
   "version": "3.7.4"
  }
 },
 "nbformat": 4,
 "nbformat_minor": 2
}

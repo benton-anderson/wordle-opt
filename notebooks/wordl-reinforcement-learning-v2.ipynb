{
 "cells": [
  {
   "cell_type": "code",
   "execution_count": 1060,
   "metadata": {},
   "outputs": [],
   "source": [
    "import pandas as pd\n",
    "import random\n",
    "import numpy as np\n",
    "import gym\n",
    "import itertools\n",
    "import matplotlib\n",
    "import matplotlib.style\n",
    "import numpy as np\n",
    "import pandas as pd\n",
    "import sys\n",
    "import gym_gridworlds\n",
    "#env = gym.make('Gridworld-v0')\n",
    "  \n",
    "from collections import defaultdict\n",
    "import plottingepi\n",
    "import matplotlib.pyplot as plt\n",
    "#import plotting\n",
    "import json\n",
    "from sklearn.preprocessing import MinMaxScaler\n",
    "from scipy.stats import ttest_ind\n",
    "import string"
   ]
  },
  {
   "cell_type": "code",
   "execution_count": 755,
   "metadata": {
    "scrolled": false
   },
   "outputs": [],
   "source": [
    "with open(r'wordle_words.json', mode='rb') as infile:\n",
    "    word_list = json.load(infile)"
   ]
  },
  {
   "cell_type": "code",
   "execution_count": 793,
   "metadata": {},
   "outputs": [
    {
     "data": {
      "text/plain": [
       "12972"
      ]
     },
     "execution_count": 793,
     "metadata": {},
     "output_type": "execute_result"
    }
   ],
   "source": [
    "word_list = [x.upper() for x in words_list]\n",
    "len(word_list)"
   ]
  },
  {
   "cell_type": "code",
   "execution_count": 763,
   "metadata": {},
   "outputs": [
    {
     "data": {
      "text/plain": [
       "(array([902], dtype=int64),)"
      ]
     },
     "execution_count": 763,
     "metadata": {},
     "output_type": "execute_result"
    }
   ],
   "source": [
    "np.where(word_df.word==\"SHEAR\")"
   ]
  },
  {
   "cell_type": "code",
   "execution_count": 848,
   "metadata": {},
   "outputs": [],
   "source": [
    "class Wordle:\n",
    "    def __init__(self, word=None, n_guesses=6, n_letters=5, all_words=['PROOF','SHEAR','BUMPY']):\n",
    "        if word == None:\n",
    "            self.word = random.sample(set(all_words[:2315]), 1)[0]\n",
    "        else:\n",
    "            self.word = word.upper()\n",
    "        self.n_guesses = n_guesses\n",
    "        self.n_letters = n_letters\n",
    "        self.guess_counter = n_guesses\n",
    "        self.greens = [None] * self.n_letters \n",
    "        self.current_yellows = [None] * self.n_letters\n",
    "        self.yellows = {i: [] for i in range(self.n_letters)}\n",
    "        self.guessed_words = []\n",
    "        self.all_words = all_words\n",
    "        self.absent_letters = []\n",
    "        self.present_letters = []\n",
    "        self.correct_positions = [None] * self.n_letters # greens would be differnt per guess, remember correct positions\n",
    "        self.state = None\n",
    "        self.gstate = [0] * self.n_letters\n",
    "        self.ystate = [0]  * self.n_letters\n",
    "        self.tmp_qstate = [0] * self.n_letters\n",
    "        self.win = ''\n",
    "        self.yellowlist = []\n",
    "        self.totalgreens = [None]*self.n_letters\n",
    "        self.totalyellows = [None]*self.n_letters\n",
    "        \n",
    "    def try_word (self, guess):\n",
    "        # need to add a check for not doing anything if the word is already guessed correctly\n",
    "        guess = guess.upper()\n",
    "        self.state = None\n",
    "        self.current_yellows = [None]* self.n_letters # yellows have to reset each time\n",
    "        self.greens = [None] * self.n_letters\n",
    "        self.tmp_qstate = [0] * self.n_letters\n",
    "        \n",
    "        print('guessed: ', guess)\n",
    "        if not len(guess) == self.n_letters:\n",
    "            raise ValueError('wrong word length')\n",
    "        if guess not in self.all_words:\n",
    "            raise ValueError('invalid word')\n",
    "        if guess in self.guessed_words:\n",
    "            raise ValueError('word already guessed')\n",
    "        self.guessed_words.append(guess)\n",
    "        # c_g = character_guess,  c_w = character_word\n",
    "        for i, (c_g, c_w) in enumerate(zip(guess, self.word)):\n",
    "            if c_g == c_w:\n",
    "                self.greens[i] = c_g\n",
    "                self.correct_positions[i] = c_g\n",
    "                self.gstate[i] = 1\n",
    "                self.tmp_qstate[i] = 1\n",
    "            if c_g in self.word and c_g != c_w:\n",
    "                self.yellows[i].append(c_g)\n",
    "                self.current_yellows[i] = c_g\n",
    "                if c_g not in self.yellowlist:\n",
    "                    self.yellowlist += c_g\n",
    "                self.ystate[i]=1\n",
    "            if c_g in self.word: # track the letters that are there for the AI later\n",
    "                self.present_letters.append(c_g)\n",
    "            if c_g not in self.word: # track letters that are not there for the AI\n",
    "                self.absent_letters.append(c_g)\n",
    "            # Check for number of non-None in greens list \n",
    "            if sum(bool(char) for char in self.greens) == self.n_letters:\n",
    "                self.state = True\n",
    "                self.win ='win'\n",
    "                print('victory! word is: ' + self.word) \n",
    "                grn_sum = sum([x!=None for x in self.greens])\n",
    "                yel_sum = sum([x!=None for x in self.current_yellows])\n",
    "                return grn_sum, yel_sum\n",
    "        self.guess_counter -= 1\n",
    "        grn_sum = sum([x!=None for x in self.greens])\n",
    "        yel_sum = sum([x!=None for x in self.current_yellows])\n",
    "        \n",
    "        if self.guess_counter == 0:\n",
    "            self.state=True\n",
    "            self.win = 'lose'\n",
    "            print(\"YOU LOSE-TOO MANY GUESSES\")\n",
    "            return grn_sum, yel_sum # return number of greens and number of yellows\n",
    "        print('Greens:' + str(self.greens) + \n",
    "              '\\nYellows: ' + str(self.yellows) + \n",
    "              '\\nGuesses left: ' + str(self.guess_counter))\n",
    "\n",
    "        return grn_sum, yel_sum # return number of greens and number of yellows\n",
    "        "
   ]
  },
  {
   "cell_type": "code",
   "execution_count": 1059,
   "metadata": {},
   "outputs": [
    {
     "name": "stdout",
     "output_type": "stream",
     "text": [
      "12972\n"
     ]
    }
   ],
   "source": [
    "print(len(word_list))"
   ]
  },
  {
   "cell_type": "code",
   "execution_count": 766,
   "metadata": {},
   "outputs": [],
   "source": [
    "w = Wordle(all_words = word_list)"
   ]
  },
  {
   "cell_type": "code",
   "execution_count": 767,
   "metadata": {},
   "outputs": [
    {
     "data": {
      "text/plain": [
       "'WEIRD'"
      ]
     },
     "execution_count": 767,
     "metadata": {},
     "output_type": "execute_result"
    }
   ],
   "source": [
    "w.word"
   ]
  },
  {
   "cell_type": "code",
   "execution_count": 768,
   "metadata": {},
   "outputs": [
    {
     "name": "stdout",
     "output_type": "stream",
     "text": [
      "guessed:  CLEAN\n",
      "Greens:[None, None, None, None, None]\n",
      "Yellows: {0: [], 1: [], 2: ['E'], 3: [], 4: []}\n",
      "Guesses left: 5\n"
     ]
    },
    {
     "data": {
      "text/plain": [
       "(0, 1)"
      ]
     },
     "execution_count": 768,
     "metadata": {},
     "output_type": "execute_result"
    }
   ],
   "source": [
    "w.try_word(\"CLEAN\")"
   ]
  },
  {
   "cell_type": "code",
   "execution_count": 769,
   "metadata": {},
   "outputs": [
    {
     "data": {
      "text/plain": [
       "{0: [], 1: [], 2: ['E'], 3: [], 4: []}"
      ]
     },
     "execution_count": 769,
     "metadata": {},
     "output_type": "execute_result"
    }
   ],
   "source": [
    "w.yellows"
   ]
  },
  {
   "cell_type": "code",
   "execution_count": 770,
   "metadata": {},
   "outputs": [
    {
     "data": {
      "text/plain": [
       "['E']"
      ]
     },
     "execution_count": 770,
     "metadata": {},
     "output_type": "execute_result"
    }
   ],
   "source": [
    "w.yellowlist"
   ]
  },
  {
   "cell_type": "code",
   "execution_count": 771,
   "metadata": {},
   "outputs": [
    {
     "data": {
      "text/plain": [
       "[None, None, None, None, None]"
      ]
     },
     "execution_count": 771,
     "metadata": {},
     "output_type": "execute_result"
    }
   ],
   "source": [
    "w.greens"
   ]
  },
  {
   "cell_type": "code",
   "execution_count": 1014,
   "metadata": {},
   "outputs": [],
   "source": [
    "# player agent class\n",
    "# try unknown letters\n",
    "\n",
    "# need to add the ability to take the correct letters as input to the guess methods\n",
    "\n",
    "\n",
    "## this is where we can have different 'types' of word guesses to be optimized\n",
    "class Player:\n",
    "    def __init__(self, all_words):\n",
    "        self.guesses=0\n",
    "        self.guessed_words = []\n",
    "        self.all_words = all_words\n",
    "        self.tmp_wordlist = []\n",
    "        \n",
    "    def get_random_guess(self):\n",
    "        '''\n",
    "        make a guess randomly from the word list\n",
    "        '''       \n",
    "        current_guess = random.sample(set(self.all_words), 1)[0]\n",
    "        while(current_guess in self.guessed_words):\n",
    "            current_guess = random.sample(set(self.all_words), 1)[0]\n",
    "        self.guessed_words.append(current_guess)\n",
    "        return current_guess\n",
    "    #def get_common_guess(self):\n",
    "    #    i=0\n",
    "    #    while( self.all_words[i] in self.guessed_words):\n",
    "    #        i+=1\n",
    "    #    self.guessed_words.append(self.all_words[i])\n",
    "    #    return self.all_words[i]\n",
    "    \n",
    "    def guess_by_green(self, GREENS):\n",
    "        match_list=[]\n",
    "        ALL_WORDS = self.all_words\n",
    "        if not all(v is None for v in GREENS):\n",
    "            for i, letter in enumerate(GREENS):\n",
    "                match_list+=[word for word in ALL_WORDS if word[i]==letter]\n",
    "                if letter is not None:\n",
    "                    print(i)\n",
    "                    ALL_WORDS = list(match_list)\n",
    "                    match_list = []\n",
    "            current_guess = random.sample(set(ALL_WORDS), 1)[0]\n",
    "            # saw this fail on COUCH when it guessed COUGH\n",
    "            while(current_guess in self.guessed_words):\n",
    "                current_guess = random.sample(set(ALL_WORDS), 1)[0]\n",
    "            self.guessed_words.append(current_guess)\n",
    "            self.tmp_wordlist = ALL_WORDS\n",
    "        else:\n",
    "            current_guess = random.sample(set(self.all_words), 1)[0]\n",
    "            while(current_guess in self.guessed_words):\n",
    "                current_guess = random.sample(set(self.all_words), 1)[0]\n",
    "            self.guessed_words.append(current_guess)\n",
    "            self.tmp_wordlist = self.all_words\n",
    "        return current_guess\n",
    "    \n",
    "    def guess_by_probs1(self): ## guess based on Ben's list\n",
    "        ALL_WORDS = ['SAINT', 'CORED', 'BULKY', 'WHOMP']\n",
    "        i=0\n",
    "        while( ALL_WORDS[i] in self.guessed_words):\n",
    "            i+=1\n",
    "            if i==4:\n",
    "                break\n",
    "        if i<4: # if one of the first 4 guesses, then guess from this list, otherwise guess random\n",
    "            current_guess = ALL_WORDS[i]\n",
    "            self.guessed_words.append(ALL_WORDS[i])\n",
    "        else:\n",
    "            current_guess = random.sample(set(self.all_words), 1)[0]\n",
    "            while(current_guess in self.guessed_words):\n",
    "                current_guess = random.sample(set(self.all_words), 1)[0]\n",
    "            self.guessed_words.append(current_guess)\n",
    "        return current_guess\n",
    "    \n",
    "    def guess_by_probs2(self): ## guess based on Ben's list\n",
    "        ALL_WORDS = ['MAMEE', 'SOILY', 'BRUNT', 'CHACK']\n",
    "        i=0\n",
    "        while( ALL_WORDS[i] in self.guessed_words):\n",
    "            i+=1\n",
    "            if i==4:\n",
    "                break\n",
    "        if i<4:\n",
    "            current_guess = ALL_WORDS[i]\n",
    "            self.guessed_words.append(ALL_WORDS[i])\n",
    "        else:\n",
    "            current_guess = random.sample(set(self.all_words), 1)[0]\n",
    "            while(current_guess in self.guessed_words):\n",
    "                current_guess = random.sample(set(self.all_words), 1)[0]\n",
    "            self.guessed_words.append(current_guess)\n",
    "        return current_guess\n",
    "    \n",
    "    def guess_exclude(self, ABSENT):\n",
    "        ALL_WORDS = self.all_words\n",
    "        ## remove any words with absent characters\n",
    "        tmpstring = string.ascii_uppercase\n",
    "        for letter in ABSENT:\n",
    "            tmpstring=tmpstring.replace(letter, '')\n",
    "        filtered_words = [word for word in ALL_WORDS if all([letter in tmpstring for letter in word])]    \n",
    "        current_guess = random.sample(set(filtered_words), 1)[0]\n",
    "        while(current_guess in self.guessed_words):\n",
    "            current_guess = random.sample(set(filtered_words), 1)[0]\n",
    "        self.guessed_words.append(current_guess)\n",
    "        return current_guess\n",
    "    \n",
    "    def guess_smart(self, GREENS, ABSENT, YELLOWS, YL):\n",
    "        match_list=[]\n",
    "        ALL_WORDS = self.all_words\n",
    "        if not all(v is None for v in GREENS): # check if the word has greens\n",
    "            for i, letter in enumerate(GREENS):\n",
    "                match_list+=[word for word in ALL_WORDS if word[i]==letter]\n",
    "                if letter is not None:\n",
    "                    print(i)\n",
    "                    ALL_WORDS = list(match_list)\n",
    "                    match_list = []\n",
    "            ## remove any words with absent characters\n",
    "            tmpstring = string.ascii_uppercase\n",
    "            for letter in ABSENT:\n",
    "                tmpstring=tmpstring.replace(letter, '')\n",
    "            out = [word for word in ALL_WORDS if all([letter in tmpstring for letter in word])]        \n",
    "            \n",
    "            ## remove words that have yellow in that position\n",
    "            #print('length of words b4 yellow:', len(out))\n",
    "            aw = list(out)\n",
    "            #print(len(aw))\n",
    "            for key in YELLOWS.keys():\n",
    "                #print(key)\n",
    "                #print([w[key] for w in aw])\n",
    "                for w in aw:\n",
    "                    #print(w)\n",
    "                    #print(YELLOWS[key])\n",
    "                    if w[key] in YELLOWS[key]:\n",
    "                        aw.remove(w)\n",
    "            \n",
    "            # add part that requires those yellows to be somewhere else in the word\n",
    "            includeyel= []\n",
    "            for w in aw:\n",
    "                if all([substring in w for substring in YL]):\n",
    "                    includeyel.append(w)\n",
    "            #print(newlist)\n",
    "            # saw this fail on COUCH when it guessed COUGH\n",
    "            current_guess = random.sample(set(includeyel), 1)[0]\n",
    "            while(current_guess in self.guessed_words):\n",
    "                current_guess = random.sample(set(includeyel), 1)[0]\n",
    "            self.guessed_words.append(current_guess)\n",
    "            #self.tmp_wordlist = includeyel\n",
    "            \n",
    "            \n",
    "        else:\n",
    "            current_guess = random.sample(set(self.all_words), 1)[0]\n",
    "            while(current_guess in self.guessed_words):\n",
    "                current_guess = random.sample(set(self.all_words), 1)[0]\n",
    "            self.guessed_words.append(current_guess)\n",
    "            self.tmp_wordlist = self.all_words\n",
    "        return current_guess"
   ]
  },
  {
   "cell_type": "code",
   "execution_count": 998,
   "metadata": {},
   "outputs": [],
   "source": [
    "p = Player(word_list)"
   ]
  },
  {
   "cell_type": "code",
   "execution_count": 999,
   "metadata": {},
   "outputs": [
    {
     "name": "stdout",
     "output_type": "stream",
     "text": [
      "0\n",
      "1\n",
      "2\n",
      "4\n"
     ]
    },
    {
     "data": {
      "text/plain": [
       "'COUTH'"
      ]
     },
     "execution_count": 999,
     "metadata": {},
     "output_type": "execute_result"
    }
   ],
   "source": [
    "p.guess_by_green(['C', 'O', 'U', None, 'H'])"
   ]
  },
  {
   "cell_type": "code",
   "execution_count": 1070,
   "metadata": {},
   "outputs": [],
   "source": [
    "## need an environment class that lets the player interact with wordl\n",
    "class Environment:\n",
    "    REWARD_YELLOW = 2\n",
    "    REWARD_GREEN = 5\n",
    "    \n",
    "    def __init__(self, WORD_LIST,STATE_TYPE, REWARD_WIN= 25, REWARD_LOSE= -15):\n",
    "        self.reset(WORD_LIST)\n",
    "        self.state_type = STATE_TYPE\n",
    "        self.reward_win = REWARD_WIN\n",
    "        self.reward_lose = REWARD_LOSE\n",
    "    \n",
    "    def reset(self, WORD_LIST):\n",
    "        self.game_over = False\n",
    "        self.score = 0\n",
    "        self.player = Player(all_words = WORD_LIST)\n",
    "        self.wordle = Wordle(all_words=WORD_LIST)\n",
    "        print('+++++++++++++++++++++++++++++++')\n",
    "        print('the wordl is:', self.wordle.word)\n",
    "        print('_______________________________')\n",
    "        self.guesses = 0\n",
    "        self.action_space = [0,1,2,3,4]\n",
    "        self.greens = [None, None, None, None, None]\n",
    "        self.tmp_wordlist = []\n",
    "        return (0, 0)\n",
    "        \n",
    "    def step(self, action):\n",
    "        self.guesses += 1\n",
    "        \n",
    "        if action==0:\n",
    "            current_guess = self.player.get_random_guess()\n",
    "        elif action == 1:\n",
    "            current_guess = self.player.guess_by_probs1()\n",
    "        elif action == 2:\n",
    "            current_guess = self.player.guess_by_probs2()\n",
    "        elif action == 3:\n",
    "            current_guess = self.player.guess_smart(self.wordle.greens, self.wordle.absent_letters,\n",
    "                                                           self.wordle.yellows,\n",
    "                                                           self.wordle.yellowlist)\n",
    "        elif action == 4:\n",
    "            current_guess = self.player.guess_exclude(self.wordle.absent_letters)\n",
    "            \n",
    "        n_greens, n_yellows = self.wordle.try_word(current_guess)\n",
    "        reward = 0\n",
    "        \n",
    "        if n_greens>0:\n",
    "            reward += self.REWARD_GREEN * n_greens\n",
    "            self.score +=self.REWARD_GREEN\n",
    "        if n_yellows>0:\n",
    "            reward += self.REWARD_YELLOW * n_yellows\n",
    "            self.score +=self.REWARD_YELLOW * n_yellows\n",
    "        \n",
    "        #self.tmp_wordlist = self.player.tmp_wordlist\n",
    "        if self.state_type=='total':\n",
    "            state = sum(self.wordle.gstate), sum(self.wordle.ystate)\n",
    "        elif self.state_type =='last':\n",
    "            state = (n_greens, n_yellows)\n",
    "            \n",
    "        if self.wordle.win == 'win':\n",
    "            reward += self.reward_win\n",
    "            self.score +=self.reward_win\n",
    "            print('********* win reward: ', reward)\n",
    "            result = self.wordle.tmp_qstate\n",
    "            return state, reward, self.wordle.state\n",
    "        \n",
    "        if self.wordle.win == 'lose':\n",
    "            reward = self.reward_lose\n",
    "            self.score +=self.REWARD_WIN\n",
    "            print('********* lose reward: ', reward)\n",
    "            result = self.wordle.tmp_qstate\n",
    "            return state, reward, self.wordle.state\n",
    "        #result = self.wordle.tmp_qstate\n",
    "        return state, reward, self.wordle.state\n",
    "        \n",
    "        "
   ]
  },
  {
   "cell_type": "code",
   "execution_count": 1071,
   "metadata": {},
   "outputs": [
    {
     "name": "stdout",
     "output_type": "stream",
     "text": [
      "+++++++++++++++++++++++++++++++\n",
      "the wordl is: FLUNG\n",
      "_______________________________\n"
     ]
    }
   ],
   "source": [
    "e = Environment(WORD_LIST =word_list, STATE_TYPE='last')"
   ]
  },
  {
   "cell_type": "code",
   "execution_count": 1074,
   "metadata": {},
   "outputs": [
    {
     "name": "stdout",
     "output_type": "stream",
     "text": [
      "guessed:  MAMEE\n",
      "Greens:[None, None, None, None, None]\n",
      "Yellows: {0: [], 1: [], 2: [], 3: [], 4: []}\n",
      "Guesses left: 5\n"
     ]
    },
    {
     "data": {
      "text/plain": [
       "((0, 0), 0, None)"
      ]
     },
     "execution_count": 1074,
     "metadata": {},
     "output_type": "execute_result"
    }
   ],
   "source": [
    "e.step(2)"
   ]
  },
  {
   "cell_type": "code",
   "execution_count": null,
   "metadata": {},
   "outputs": [],
   "source": []
  },
  {
   "cell_type": "code",
   "execution_count": 786,
   "metadata": {},
   "outputs": [],
   "source": [
    "#from stable_baselines.common.policies import MlpPolicy\n",
    "#from stable_baselines.common.vec_env import DummyVecEnv\n",
    "#from stable_baselines import PPO1"
   ]
  },
  {
   "cell_type": "code",
   "execution_count": 1004,
   "metadata": {},
   "outputs": [],
   "source": [
    "def createEpsilonGreedyPolicy(Q, epsilon, num_actions):\n",
    "\t\"\"\"\n",
    "\tCreates an epsilon-greedy policy based\n",
    "\ton a given Q-function and epsilon.\n",
    "\t\n",
    "\tReturns a function that takes the state\n",
    "\tas an input and returns the probabilities\n",
    "\tfor each action in the form of a numpy array\n",
    "\tof length of the action space(set of possible actions).\n",
    "\t\"\"\"\n",
    "\tdef policyFunction(state):\n",
    "\n",
    "\t\tAction_probabilities = np.ones(num_actions, dtype = float) * epsilon / num_actions\n",
    "\t\tbest_action = np.argmax(Q[state])\n",
    "\t\tAction_probabilities[best_action] += (1.0 - epsilon)\n",
    "\t\treturn Action_probabilities\n",
    "\n",
    "\treturn policyFunction\n"
   ]
  },
  {
   "cell_type": "code",
   "execution_count": 1005,
   "metadata": {},
   "outputs": [
    {
     "data": {
      "text/plain": [
       "[0, 1, 2, 3, 4]"
      ]
     },
     "execution_count": 1005,
     "metadata": {},
     "output_type": "execute_result"
    }
   ],
   "source": [
    "e.action_space"
   ]
  },
  {
   "cell_type": "code",
   "execution_count": 1018,
   "metadata": {},
   "outputs": [],
   "source": [
    "def qLearning(env, num_episodes, discount_factor = 1.0, alpha = 0.5, epsilon = 0.3, prints=False):\n",
    "    \"\"\"\n",
    "    Q-Learning algorithm: Off-policy TD control.\n",
    "    Finds the optimal greedy policy while improving\n",
    "    following an epsilon-greedy policy\"\"\"\n",
    "    \n",
    "    # Action value function\n",
    "    # A nested dictionary that maps\n",
    "    # state -> (action -> action-value).\n",
    "    Q = defaultdict(lambda: np.zeros(len(env.action_space)))\n",
    "    # Keeps track of useful statistics\n",
    "    stats = plottingepi.EpisodeStats(\n",
    "        episode_lengths = np.zeros(num_episodes),\n",
    "        episode_rewards = np.zeros(num_episodes))\n",
    "    win_records = np.zeros(num_episodes)\n",
    "    \n",
    "    # Create an epsilon greedy policy function\n",
    "    # appropriately for environment action space\n",
    "    policy = createEpsilonGreedyPolicy(Q, epsilon, len(env.action_space) )\n",
    "    wordlistdict = defaultdict()\n",
    "    \n",
    "    # For every episode\n",
    "    for ith_episode in range(num_episodes):\n",
    "\n",
    "        # Reset the environment and pick the first action\n",
    "        state = env.reset(word_list)\n",
    "        \n",
    "        for t in itertools.count():\n",
    "            #print(\"this is q\", Q)\n",
    "            # get probabilities of all actions from current state\n",
    "            action_probabilities = policy(state)\n",
    "            if prints: print('action probabilities:', action_probabilities)\n",
    "            # choose action according to\n",
    "            # the probability distribution\n",
    "            action = np.random.choice(np.arange(\n",
    "                    len(action_probabilities)),\n",
    "                    p = action_probabilities)\n",
    "            if prints: print('taking action #: ', action)\n",
    "            # take action and get reward, transit to next state\n",
    "            next_state, reward, done = env.step(action)\n",
    "            if prints: print('current state is: ',state)\n",
    "            if prints: print('next state is:', next_state )\n",
    "            \n",
    "            #next_state = sum(next_state)\n",
    "            \n",
    "            # Update statistics\n",
    "            stats.episode_rewards[ith_episode] += reward\n",
    "            stats.episode_lengths[ith_episode] = t\n",
    "            if(env.wordle.win =='win'):\n",
    "                win_records[ith_episode] = 1\n",
    "            elif(env.wordle.win == 'lose'):\n",
    "                win_records[ith_episode] = 0\n",
    "            \n",
    "            # TD Update\n",
    "            best_next_action = np.argmax(Q[next_state])\t\n",
    "            td_target = reward + discount_factor * Q[next_state][best_next_action]\n",
    "            td_delta = td_target - Q[state][action]\n",
    "            Q[state][action] += alpha * td_delta\n",
    "            \n",
    "\n",
    "            # done is True if episode terminated\n",
    "            if done:\n",
    "                break\n",
    "\n",
    "            state = next_state\n",
    "        #wordlistdict[env.wordle.word] = env.tmp_wordlist\n",
    "            \n",
    "    return Q, stats, win_records\n"
   ]
  },
  {
   "cell_type": "code",
   "execution_count": 1019,
   "metadata": {},
   "outputs": [
    {
     "data": {
      "text/plain": [
       "True"
      ]
     },
     "execution_count": 1019,
     "metadata": {},
     "output_type": "execute_result"
    }
   ],
   "source": [
    "'CORED' in word_list"
   ]
  },
  {
   "cell_type": "code",
   "execution_count": 1021,
   "metadata": {},
   "outputs": [],
   "source": [
    "# qouts1 is using state = 'last' 1000 iter , epsilon=0.3,alpha=0.02, discount_factor=0.05\n",
    "# qouts 2 uses state 'total', 1000 iter , epsilon=0.3,alpha=0.02, discount_factor=0.05\n",
    "# qouts 3 uses state 'last', 10000 iter , epsilon=0.3,alpha=0.02, discount_factor=0.05\n",
    "# qouts 4 uses state 'total', 10000 iter , epsilon=0.3,alpha=0.02, discount_factor=0.05\n",
    "# qouts 5 uses state 'last', 10000 iter , epsilon=0.02,alpha=0.02, discount_factor=0.05,\n",
    "# 6 uses state 'last' added new option probs 2,  10000, epsilon=0.3,alpha=0.02, discount_factor=0.05, prints=False)\n",
    "# 7 uses state 'total' added new option probs 2,  10000, epsilon=0.3,alpha=0.02, discount_factor=0.05, prints=False)\n",
    "# 8 uses state last, 'total' added new option probs 2,  10000, epsilon=0.02,alpha=0.02, discount_factor=0.05, prints=False)\n",
    "# 9 uses state last, 'total' added new option probs 2,  10000, epsilon=0.5,alpha=0.02, discount_factor=0.05, prints=False)\n"
   ]
  },
  {
   "cell_type": "code",
   "execution_count": null,
   "metadata": {},
   "outputs": [],
   "source": [
    "\n",
    "qouts9 = []\n",
    "souts9 = []\n",
    "wouts9 = []\n",
    "for i in range(0,3):\n",
    "    print(i)\n",
    "    tmpq, tmps, tmpw = qLearning(Environment(WORD_LIST=word_list, STATE_TYPE='last'), \n",
    "                           10000, epsilon=0.5,alpha=0.02, discount_factor=0.05, prints=False)\n",
    "    qouts9.append(tmpq)\n",
    "    souts9.append(tmps)\n",
    "    wouts9.append(tmpw)\n",
    "print(np.mean([sum(x) for x in wouts1]))"
   ]
  },
  {
   "cell_type": "code",
   "execution_count": 1061,
   "metadata": {},
   "outputs": [
    {
     "name": "stdout",
     "output_type": "stream",
     "text": [
      "4969.666666666667\n",
      "82.70966623611106\n"
     ]
    }
   ],
   "source": [
    "print(np.mean([sum(x) for x in wouts6]))\n",
    "print(np.std([sum(x) for x in wouts6]))"
   ]
  },
  {
   "cell_type": "code",
   "execution_count": 1062,
   "metadata": {},
   "outputs": [
    {
     "name": "stdout",
     "output_type": "stream",
     "text": [
      "4664.0\n",
      "109.8453458276681\n"
     ]
    }
   ],
   "source": [
    "print(np.mean([sum(x) for x in wouts7]))\n",
    "print(np.std([sum(x) for x in wouts7]))\n"
   ]
  },
  {
   "cell_type": "code",
   "execution_count": 1063,
   "metadata": {},
   "outputs": [
    {
     "name": "stdout",
     "output_type": "stream",
     "text": [
      "6313.333333333333\n",
      "722.1608008070102\n"
     ]
    }
   ],
   "source": [
    "print(np.mean([sum(x) for x in wouts8]))\n",
    "print(np.std([sum(x) for x in wouts8]))"
   ]
  },
  {
   "cell_type": "code",
   "execution_count": 1064,
   "metadata": {},
   "outputs": [
    {
     "name": "stdout",
     "output_type": "stream",
     "text": [
      "3599.0\n",
      "47.42010825237187\n"
     ]
    }
   ],
   "source": [
    "print(np.mean([sum(x) for x in wouts9]))\n",
    "print(np.std([sum(x) for x in wouts9]))"
   ]
  },
  {
   "cell_type": "code",
   "execution_count": 1065,
   "metadata": {},
   "outputs": [
    {
     "data": {
      "text/plain": [
       "Ttest_indResult(statistic=3.14378648640506, pvalue=0.03842433999248083)"
      ]
     },
     "execution_count": 1065,
     "metadata": {},
     "output_type": "execute_result"
    }
   ],
   "source": [
    "ttest_ind([sum(x) for x in wouts6], [sum(x) for x in wouts7], equal_var=False)"
   ]
  },
  {
   "cell_type": "code",
   "execution_count": 988,
   "metadata": {},
   "outputs": [
    {
     "data": {
      "text/plain": [
       "5376.666666666667"
      ]
     },
     "execution_count": 988,
     "metadata": {},
     "output_type": "execute_result"
    }
   ],
   "source": [
    "np.mean([sum(x) for x in wouts5])"
   ]
  },
  {
   "cell_type": "code",
   "execution_count": 909,
   "metadata": {},
   "outputs": [],
   "source": [
    "def win_trace(input):\n",
    "    summed = []\n",
    "    i=0\n",
    "    for x in input:\n",
    "        if x==1:\n",
    "            i+=x\n",
    "            summed.append(i)\n",
    "        else:\n",
    "            summed.append(i)\n",
    "    return summed"
   ]
  },
  {
   "cell_type": "code",
   "execution_count": 1040,
   "metadata": {},
   "outputs": [
    {
     "name": "stdout",
     "output_type": "stream",
     "text": [
      "0\n",
      "1\n",
      "2\n",
      "3\n",
      "4\n",
      "5\n"
     ]
    },
    {
     "data": {
      "image/png": "[encoded data removed]",
      "text/plain": [
       "<Figure size 504x360 with 1 Axes>"
      ]
     },
     "metadata": {},
     "output_type": "display_data"
    }
   ],
   "source": [
    "# best state = black\n",
    "plt.rcParams['figure.figsize']=7,5\n",
    "plt.rcParams['axes.facecolor']='white'\n",
    "plt.rcParams[\"axes.edgecolor\"] = \"black\"\n",
    "plt.rcParams[\"axes.linewidth\"] = 2\n",
    "plt.style.use('seaborn-white')\n",
    "colors = ['red']*3+['black']*3\n",
    "for i in range(0,6):\n",
    "    print(i)\n",
    "    if i<3:\n",
    "        plt.plot(win_trace(wouts6[i]),color=colors[i])\n",
    "        plt.ylim(0,1000)\n",
    "        plt.xlim(0,1000)\n",
    "    else:\n",
    "        plt.plot(win_trace(wouts7[i-3]),color=colors[i])\n",
    "plt.xlabel('trial iteration', fontsize=24)\n",
    "plt.ylabel('cumulative wins', fontsize=24)\n",
    "plt.xticks(fontsize=24)\n",
    "plt.yticks(fontsize=24)\n",
    "plt.legend(['last state']*3+['best state']*3, fontsize=18)\n",
    "plt.savefig('plots/last_versus_best_state1000.svg', bbox_inches='tight')"
   ]
  },
  {
   "cell_type": "markdown",
   "metadata": {},
   "source": [
    "# Policy heatmap, epsilon = 0.5"
   ]
  },
  {
   "cell_type": "code",
   "execution_count": 1048,
   "metadata": {},
   "outputs": [
    {
     "data": {
      "text/html": [
       "<div>\n",
       "<style scoped>\n",
       "    .dataframe tbody tr th:only-of-type {\n",
       "        vertical-align: middle;\n",
       "    }\n",
       "\n",
       "    .dataframe tbody tr th {\n",
       "        vertical-align: top;\n",
       "    }\n",
       "\n",
       "    .dataframe thead th {\n",
       "        text-align: right;\n",
       "    }\n",
       "</style>\n",
       "<table border=\"1\" class=\"dataframe\">\n",
       "  <thead>\n",
       "    <tr style=\"text-align: right;\">\n",
       "      <th></th>\n",
       "      <th>random</th>\n",
       "      <th>probs1</th>\n",
       "      <th>probs2</th>\n",
       "      <th>smart</th>\n",
       "      <th>exclude</th>\n",
       "    </tr>\n",
       "  </thead>\n",
       "  <tbody>\n",
       "    <tr>\n",
       "      <th>(0, 0)</th>\n",
       "      <td>3.309916</td>\n",
       "      <td>3.462410</td>\n",
       "      <td>3.580568</td>\n",
       "      <td>2.995440</td>\n",
       "      <td>3.343786</td>\n",
       "    </tr>\n",
       "    <tr>\n",
       "      <th>(0, 1)</th>\n",
       "      <td>1.494802</td>\n",
       "      <td>2.475084</td>\n",
       "      <td>1.772137</td>\n",
       "      <td>1.782081</td>\n",
       "      <td>3.466182</td>\n",
       "    </tr>\n",
       "    <tr>\n",
       "      <th>(0, 2)</th>\n",
       "      <td>0.356178</td>\n",
       "      <td>1.370072</td>\n",
       "      <td>2.136370</td>\n",
       "      <td>1.319162</td>\n",
       "      <td>2.599980</td>\n",
       "    </tr>\n",
       "    <tr>\n",
       "      <th>(0, 3)</th>\n",
       "      <td>0.446029</td>\n",
       "      <td>1.131661</td>\n",
       "      <td>0.408917</td>\n",
       "      <td>0.828309</td>\n",
       "      <td>2.113133</td>\n",
       "    </tr>\n",
       "    <tr>\n",
       "      <th>(0, 4)</th>\n",
       "      <td>-2.260330</td>\n",
       "      <td>-1.527374</td>\n",
       "      <td>-1.860755</td>\n",
       "      <td>-1.412613</td>\n",
       "      <td>-1.136917</td>\n",
       "    </tr>\n",
       "    <tr>\n",
       "      <th>(0, 5)</th>\n",
       "      <td>-0.319760</td>\n",
       "      <td>0.128670</td>\n",
       "      <td>-0.431002</td>\n",
       "      <td>-0.284692</td>\n",
       "      <td>-0.057583</td>\n",
       "    </tr>\n",
       "    <tr>\n",
       "      <th>(1, 0)</th>\n",
       "      <td>1.443965</td>\n",
       "      <td>3.015195</td>\n",
       "      <td>2.320005</td>\n",
       "      <td>13.603151</td>\n",
       "      <td>3.718746</td>\n",
       "    </tr>\n",
       "    <tr>\n",
       "      <th>(1, 1)</th>\n",
       "      <td>1.533807</td>\n",
       "      <td>2.378456</td>\n",
       "      <td>2.367313</td>\n",
       "      <td>14.929076</td>\n",
       "      <td>4.845253</td>\n",
       "    </tr>\n",
       "    <tr>\n",
       "      <th>(1, 2)</th>\n",
       "      <td>1.918895</td>\n",
       "      <td>1.371430</td>\n",
       "      <td>1.911050</td>\n",
       "      <td>18.993001</td>\n",
       "      <td>3.524739</td>\n",
       "    </tr>\n",
       "    <tr>\n",
       "      <th>(1, 3)</th>\n",
       "      <td>-0.630706</td>\n",
       "      <td>0.217045</td>\n",
       "      <td>-0.215766</td>\n",
       "      <td>23.471355</td>\n",
       "      <td>1.908255</td>\n",
       "    </tr>\n",
       "    <tr>\n",
       "      <th>(1, 4)</th>\n",
       "      <td>-0.327634</td>\n",
       "      <td>-0.840248</td>\n",
       "      <td>-0.507232</td>\n",
       "      <td>25.027799</td>\n",
       "      <td>0.148095</td>\n",
       "    </tr>\n",
       "    <tr>\n",
       "      <th>(2, 0)</th>\n",
       "      <td>1.394054</td>\n",
       "      <td>1.865025</td>\n",
       "      <td>1.562555</td>\n",
       "      <td>20.325621</td>\n",
       "      <td>5.250079</td>\n",
       "    </tr>\n",
       "    <tr>\n",
       "      <th>(2, 1)</th>\n",
       "      <td>1.422304</td>\n",
       "      <td>2.141371</td>\n",
       "      <td>2.065889</td>\n",
       "      <td>23.631496</td>\n",
       "      <td>3.653600</td>\n",
       "    </tr>\n",
       "    <tr>\n",
       "      <th>(2, 2)</th>\n",
       "      <td>-0.322243</td>\n",
       "      <td>0.182879</td>\n",
       "      <td>0.792670</td>\n",
       "      <td>29.173569</td>\n",
       "      <td>1.670922</td>\n",
       "    </tr>\n",
       "    <tr>\n",
       "      <th>(2, 3)</th>\n",
       "      <td>-0.859096</td>\n",
       "      <td>-1.351888</td>\n",
       "      <td>-0.160421</td>\n",
       "      <td>28.776604</td>\n",
       "      <td>0.042498</td>\n",
       "    </tr>\n",
       "    <tr>\n",
       "      <th>(3, 0)</th>\n",
       "      <td>-0.062182</td>\n",
       "      <td>1.154705</td>\n",
       "      <td>0.595734</td>\n",
       "      <td>26.255069</td>\n",
       "      <td>2.737553</td>\n",
       "    </tr>\n",
       "    <tr>\n",
       "      <th>(3, 1)</th>\n",
       "      <td>-1.158623</td>\n",
       "      <td>-1.192217</td>\n",
       "      <td>-0.460994</td>\n",
       "      <td>31.917436</td>\n",
       "      <td>1.199250</td>\n",
       "    </tr>\n",
       "    <tr>\n",
       "      <th>(3, 2)</th>\n",
       "      <td>-0.419707</td>\n",
       "      <td>-1.637042</td>\n",
       "      <td>-0.089503</td>\n",
       "      <td>35.591510</td>\n",
       "      <td>-1.107605</td>\n",
       "    </tr>\n",
       "    <tr>\n",
       "      <th>(4, 0)</th>\n",
       "      <td>-1.903921</td>\n",
       "      <td>-1.601485</td>\n",
       "      <td>-2.276012</td>\n",
       "      <td>32.838003</td>\n",
       "      <td>-0.410987</td>\n",
       "    </tr>\n",
       "    <tr>\n",
       "      <th>(4, 1)</th>\n",
       "      <td>-1.930485</td>\n",
       "      <td>-1.610173</td>\n",
       "      <td>-1.843413</td>\n",
       "      <td>33.484335</td>\n",
       "      <td>-0.012006</td>\n",
       "    </tr>\n",
       "    <tr>\n",
       "      <th>(5, 0)</th>\n",
       "      <td>0.000000</td>\n",
       "      <td>0.000000</td>\n",
       "      <td>0.000000</td>\n",
       "      <td>0.000000</td>\n",
       "      <td>0.000000</td>\n",
       "    </tr>\n",
       "  </tbody>\n",
       "</table>\n",
       "</div>"
      ],
      "text/plain": [
       "          random    probs1    probs2      smart   exclude\n",
       "(0, 0)  3.309916  3.462410  3.580568   2.995440  3.343786\n",
       "(0, 1)  1.494802  2.475084  1.772137   1.782081  3.466182\n",
       "(0, 2)  0.356178  1.370072  2.136370   1.319162  2.599980\n",
       "(0, 3)  0.446029  1.131661  0.408917   0.828309  2.113133\n",
       "(0, 4) -2.260330 -1.527374 -1.860755  -1.412613 -1.136917\n",
       "(0, 5) -0.319760  0.128670 -0.431002  -0.284692 -0.057583\n",
       "(1, 0)  1.443965  3.015195  2.320005  13.603151  3.718746\n",
       "(1, 1)  1.533807  2.378456  2.367313  14.929076  4.845253\n",
       "(1, 2)  1.918895  1.371430  1.911050  18.993001  3.524739\n",
       "(1, 3) -0.630706  0.217045 -0.215766  23.471355  1.908255\n",
       "(1, 4) -0.327634 -0.840248 -0.507232  25.027799  0.148095\n",
       "(2, 0)  1.394054  1.865025  1.562555  20.325621  5.250079\n",
       "(2, 1)  1.422304  2.141371  2.065889  23.631496  3.653600\n",
       "(2, 2) -0.322243  0.182879  0.792670  29.173569  1.670922\n",
       "(2, 3) -0.859096 -1.351888 -0.160421  28.776604  0.042498\n",
       "(3, 0) -0.062182  1.154705  0.595734  26.255069  2.737553\n",
       "(3, 1) -1.158623 -1.192217 -0.460994  31.917436  1.199250\n",
       "(3, 2) -0.419707 -1.637042 -0.089503  35.591510 -1.107605\n",
       "(4, 0) -1.903921 -1.601485 -2.276012  32.838003 -0.410987\n",
       "(4, 1) -1.930485 -1.610173 -1.843413  33.484335 -0.012006\n",
       "(5, 0)  0.000000  0.000000  0.000000   0.000000  0.000000"
      ]
     },
     "execution_count": 1048,
     "metadata": {},
     "output_type": "execute_result"
    }
   ],
   "source": [
    "qdf = pd.concat([pd.DataFrame.from_dict(qouts9[0], orient='index', columns=['random', 'probs1','probs2', 'smart', 'exclude']).sort_index(),\n",
    "           pd.DataFrame.from_dict(qouts9[1], orient='index', columns=['random', 'probs1','probs2', 'smart', 'exclude']).sort_index(),\n",
    "           pd.DataFrame.from_dict(qouts9[2], orient='index', columns=['random', 'probs1','probs2', 'smart', 'exclude']).sort_index()]).groupby(level=0).mean()\n",
    "qdf"
   ]
  },
  {
   "cell_type": "code",
   "execution_count": 1049,
   "metadata": {},
   "outputs": [
    {
     "data": {
      "image/png": "[encoded data removed]",
      "text/plain": [
       "<Figure size 360x720 with 2 Axes>"
      ]
     },
     "metadata": {},
     "output_type": "display_data"
    }
   ],
   "source": [
    "qdft = pd.DataFrame(MinMaxScaler().fit_transform(qdf.T).T, columns=qdf.columns, index=qdf.index)\n",
    "qdft.drop(qdft.tail(1).index,inplace=True)\n",
    "\n",
    "plt.rcParams['figure.figsize'] = 5,10\n",
    "sns.set(font_scale=1.4)\n",
    "ax = sns.heatmap(qdft, cmap='viridis')\n",
    "#plt.title('Optimal Policy (Normalized)', fontsize=20)\n",
    "plt.savefig('plots/policy_heatmap_0p5e.svg')"
   ]
  },
  {
   "cell_type": "markdown",
   "metadata": {},
   "source": [
    "# Policy heatmap, epsilon = 0.02"
   ]
  },
  {
   "cell_type": "code",
   "execution_count": 1057,
   "metadata": {},
   "outputs": [
    {
     "data": {
      "image/png": "[encoded data removed]",
      "text/plain": [
       "<Figure size 360x720 with 2 Axes>"
      ]
     },
     "metadata": {},
     "output_type": "display_data"
    }
   ],
   "source": [
    "qdf = pd.concat([pd.DataFrame.from_dict(qouts8[0], orient='index', columns=['random', 'probs1','probs2', 'smart', 'exclude']).sort_index(),\n",
    "           pd.DataFrame.from_dict(qouts8[1], orient='index', columns=['random', 'probs1','probs2', 'smart', 'exclude']).sort_index(),\n",
    "           pd.DataFrame.from_dict(qouts8[2], orient='index', columns=['random', 'probs1','probs2', 'smart', 'exclude']).sort_index()]).groupby(level=0).mean()\n",
    "\n",
    "qdft = pd.DataFrame(MinMaxScaler().fit_transform(qdf.T).T, columns=qdf.columns, index=qdf.index)\n",
    "qdft.drop(qdft.tail(1).index,inplace=True)\n",
    "\n",
    "plt.rcParams['figure.figsize'] = 5,10\n",
    "sns.set(font_scale=1.4)\n",
    "ax = sns.heatmap(qdft, cmap='viridis')\n",
    "#plt.title('Optimal Policy (Normalized)', fontsize=20)\n",
    "plt.savefig('plots/policy_heatmap_0p02e.svg')"
   ]
  },
  {
   "cell_type": "code",
   "execution_count": null,
   "metadata": {},
   "outputs": [],
   "source": []
  },
  {
   "cell_type": "code",
   "execution_count": 960,
   "metadata": {},
   "outputs": [
    {
     "data": {
      "text/html": [
       "<div>\n",
       "<style scoped>\n",
       "    .dataframe tbody tr th:only-of-type {\n",
       "        vertical-align: middle;\n",
       "    }\n",
       "\n",
       "    .dataframe tbody tr th {\n",
       "        vertical-align: top;\n",
       "    }\n",
       "\n",
       "    .dataframe thead th {\n",
       "        text-align: right;\n",
       "    }\n",
       "</style>\n",
       "<table border=\"1\" class=\"dataframe\">\n",
       "  <thead>\n",
       "    <tr style=\"text-align: right;\">\n",
       "      <th></th>\n",
       "      <th>random</th>\n",
       "      <th>probs</th>\n",
       "      <th>smart</th>\n",
       "      <th>exclude</th>\n",
       "    </tr>\n",
       "  </thead>\n",
       "  <tbody>\n",
       "    <tr>\n",
       "      <th>(0, 0)</th>\n",
       "      <td>3.052967</td>\n",
       "      <td>4.700094</td>\n",
       "      <td>3.013923</td>\n",
       "      <td>3.114437</td>\n",
       "    </tr>\n",
       "    <tr>\n",
       "      <th>(0, 1)</th>\n",
       "      <td>3.441211</td>\n",
       "      <td>2.031658</td>\n",
       "      <td>1.202999</td>\n",
       "      <td>3.590128</td>\n",
       "    </tr>\n",
       "    <tr>\n",
       "      <th>(0, 2)</th>\n",
       "      <td>0.723738</td>\n",
       "      <td>3.266978</td>\n",
       "      <td>1.168394</td>\n",
       "      <td>3.519345</td>\n",
       "    </tr>\n",
       "    <tr>\n",
       "      <th>(0, 3)</th>\n",
       "      <td>0.132481</td>\n",
       "      <td>1.534980</td>\n",
       "      <td>0.718171</td>\n",
       "      <td>5.304660</td>\n",
       "    </tr>\n",
       "    <tr>\n",
       "      <th>(0, 4)</th>\n",
       "      <td>0.163312</td>\n",
       "      <td>-0.121055</td>\n",
       "      <td>-0.423408</td>\n",
       "      <td>5.299389</td>\n",
       "    </tr>\n",
       "    <tr>\n",
       "      <th>(0, 5)</th>\n",
       "      <td>-2.378672</td>\n",
       "      <td>-2.397461</td>\n",
       "      <td>-2.360895</td>\n",
       "      <td>1.473453</td>\n",
       "    </tr>\n",
       "    <tr>\n",
       "      <th>(1, 0)</th>\n",
       "      <td>3.615351</td>\n",
       "      <td>1.135064</td>\n",
       "      <td>0.952773</td>\n",
       "      <td>0.876771</td>\n",
       "    </tr>\n",
       "    <tr>\n",
       "      <th>(1, 1)</th>\n",
       "      <td>1.572897</td>\n",
       "      <td>2.149399</td>\n",
       "      <td>7.982457</td>\n",
       "      <td>1.612615</td>\n",
       "    </tr>\n",
       "    <tr>\n",
       "      <th>(1, 2)</th>\n",
       "      <td>1.009681</td>\n",
       "      <td>1.326893</td>\n",
       "      <td>6.001651</td>\n",
       "      <td>5.149132</td>\n",
       "    </tr>\n",
       "    <tr>\n",
       "      <th>(1, 3)</th>\n",
       "      <td>0.488276</td>\n",
       "      <td>0.436046</td>\n",
       "      <td>15.348056</td>\n",
       "      <td>1.374688</td>\n",
       "    </tr>\n",
       "    <tr>\n",
       "      <th>(1, 4)</th>\n",
       "      <td>-0.341043</td>\n",
       "      <td>-0.570466</td>\n",
       "      <td>15.433410</td>\n",
       "      <td>0.552674</td>\n",
       "    </tr>\n",
       "    <tr>\n",
       "      <th>(1, 5)</th>\n",
       "      <td>-0.434248</td>\n",
       "      <td>-0.419058</td>\n",
       "      <td>19.045101</td>\n",
       "      <td>-0.356866</td>\n",
       "    </tr>\n",
       "    <tr>\n",
       "      <th>(2, 0)</th>\n",
       "      <td>2.451605</td>\n",
       "      <td>0.278916</td>\n",
       "      <td>5.588167</td>\n",
       "      <td>0.547343</td>\n",
       "    </tr>\n",
       "    <tr>\n",
       "      <th>(2, 1)</th>\n",
       "      <td>0.675996</td>\n",
       "      <td>0.100448</td>\n",
       "      <td>7.613958</td>\n",
       "      <td>4.862806</td>\n",
       "    </tr>\n",
       "    <tr>\n",
       "      <th>(2, 2)</th>\n",
       "      <td>0.285236</td>\n",
       "      <td>-0.236942</td>\n",
       "      <td>19.668519</td>\n",
       "      <td>1.429522</td>\n",
       "    </tr>\n",
       "    <tr>\n",
       "      <th>(2, 3)</th>\n",
       "      <td>0.037738</td>\n",
       "      <td>-0.197951</td>\n",
       "      <td>20.211208</td>\n",
       "      <td>0.640316</td>\n",
       "    </tr>\n",
       "    <tr>\n",
       "      <th>(2, 4)</th>\n",
       "      <td>-0.321715</td>\n",
       "      <td>-0.452785</td>\n",
       "      <td>23.108176</td>\n",
       "      <td>0.052755</td>\n",
       "    </tr>\n",
       "    <tr>\n",
       "      <th>(2, 5)</th>\n",
       "      <td>-0.659610</td>\n",
       "      <td>-0.573065</td>\n",
       "      <td>27.422907</td>\n",
       "      <td>-0.340528</td>\n",
       "    </tr>\n",
       "    <tr>\n",
       "      <th>(3, 0)</th>\n",
       "      <td>0.676774</td>\n",
       "      <td>-0.103462</td>\n",
       "      <td>13.103110</td>\n",
       "      <td>0.128318</td>\n",
       "    </tr>\n",
       "    <tr>\n",
       "      <th>(3, 1)</th>\n",
       "      <td>-0.152632</td>\n",
       "      <td>0.223152</td>\n",
       "      <td>21.695415</td>\n",
       "      <td>0.069611</td>\n",
       "    </tr>\n",
       "    <tr>\n",
       "      <th>(3, 2)</th>\n",
       "      <td>-0.413532</td>\n",
       "      <td>-0.180957</td>\n",
       "      <td>26.040941</td>\n",
       "      <td>-0.526882</td>\n",
       "    </tr>\n",
       "    <tr>\n",
       "      <th>(3, 3)</th>\n",
       "      <td>-0.311964</td>\n",
       "      <td>-0.491106</td>\n",
       "      <td>28.006932</td>\n",
       "      <td>0.031119</td>\n",
       "    </tr>\n",
       "    <tr>\n",
       "      <th>(3, 4)</th>\n",
       "      <td>-0.637043</td>\n",
       "      <td>-0.694025</td>\n",
       "      <td>31.942244</td>\n",
       "      <td>-0.778807</td>\n",
       "    </tr>\n",
       "    <tr>\n",
       "      <th>(3, 5)</th>\n",
       "      <td>-0.380045</td>\n",
       "      <td>-0.483281</td>\n",
       "      <td>29.988945</td>\n",
       "      <td>-0.192919</td>\n",
       "    </tr>\n",
       "    <tr>\n",
       "      <th>(4, 0)</th>\n",
       "      <td>-0.358196</td>\n",
       "      <td>-0.129212</td>\n",
       "      <td>24.335118</td>\n",
       "      <td>0.000000</td>\n",
       "    </tr>\n",
       "    <tr>\n",
       "      <th>(4, 1)</th>\n",
       "      <td>-0.288199</td>\n",
       "      <td>-0.204376</td>\n",
       "      <td>31.827228</td>\n",
       "      <td>0.271605</td>\n",
       "    </tr>\n",
       "    <tr>\n",
       "      <th>(4, 2)</th>\n",
       "      <td>-0.897478</td>\n",
       "      <td>-0.827032</td>\n",
       "      <td>33.133774</td>\n",
       "      <td>-0.469388</td>\n",
       "    </tr>\n",
       "    <tr>\n",
       "      <th>(4, 3)</th>\n",
       "      <td>-0.586854</td>\n",
       "      <td>-0.228524</td>\n",
       "      <td>32.869289</td>\n",
       "      <td>-0.376166</td>\n",
       "    </tr>\n",
       "    <tr>\n",
       "      <th>(4, 4)</th>\n",
       "      <td>-0.290685</td>\n",
       "      <td>-0.279759</td>\n",
       "      <td>28.249694</td>\n",
       "      <td>-0.514720</td>\n",
       "    </tr>\n",
       "    <tr>\n",
       "      <th>(4, 5)</th>\n",
       "      <td>-0.215601</td>\n",
       "      <td>-0.254220</td>\n",
       "      <td>25.358545</td>\n",
       "      <td>-0.095735</td>\n",
       "    </tr>\n",
       "    <tr>\n",
       "      <th>(5, 0)</th>\n",
       "      <td>-0.254469</td>\n",
       "      <td>-0.122245</td>\n",
       "      <td>1.802519</td>\n",
       "      <td>0.000000</td>\n",
       "    </tr>\n",
       "    <tr>\n",
       "      <th>(5, 1)</th>\n",
       "      <td>-0.380020</td>\n",
       "      <td>-0.252074</td>\n",
       "      <td>8.919628</td>\n",
       "      <td>-0.126929</td>\n",
       "    </tr>\n",
       "    <tr>\n",
       "      <th>(5, 2)</th>\n",
       "      <td>-0.317282</td>\n",
       "      <td>-0.464785</td>\n",
       "      <td>19.287890</td>\n",
       "      <td>0.000000</td>\n",
       "    </tr>\n",
       "    <tr>\n",
       "      <th>(5, 3)</th>\n",
       "      <td>-0.213675</td>\n",
       "      <td>-0.306569</td>\n",
       "      <td>17.435816</td>\n",
       "      <td>-0.096898</td>\n",
       "    </tr>\n",
       "    <tr>\n",
       "      <th>(5, 4)</th>\n",
       "      <td>-0.300000</td>\n",
       "      <td>-0.215242</td>\n",
       "      <td>6.561587</td>\n",
       "      <td>-0.172363</td>\n",
       "    </tr>\n",
       "    <tr>\n",
       "      <th>(5, 5)</th>\n",
       "      <td>-0.300000</td>\n",
       "      <td>-0.286920</td>\n",
       "      <td>1.024405</td>\n",
       "      <td>0.000000</td>\n",
       "    </tr>\n",
       "  </tbody>\n",
       "</table>\n",
       "</div>"
      ],
      "text/plain": [
       "          random     probs      smart   exclude\n",
       "(0, 0)  3.052967  4.700094   3.013923  3.114437\n",
       "(0, 1)  3.441211  2.031658   1.202999  3.590128\n",
       "(0, 2)  0.723738  3.266978   1.168394  3.519345\n",
       "(0, 3)  0.132481  1.534980   0.718171  5.304660\n",
       "(0, 4)  0.163312 -0.121055  -0.423408  5.299389\n",
       "(0, 5) -2.378672 -2.397461  -2.360895  1.473453\n",
       "(1, 0)  3.615351  1.135064   0.952773  0.876771\n",
       "(1, 1)  1.572897  2.149399   7.982457  1.612615\n",
       "(1, 2)  1.009681  1.326893   6.001651  5.149132\n",
       "(1, 3)  0.488276  0.436046  15.348056  1.374688\n",
       "(1, 4) -0.341043 -0.570466  15.433410  0.552674\n",
       "(1, 5) -0.434248 -0.419058  19.045101 -0.356866\n",
       "(2, 0)  2.451605  0.278916   5.588167  0.547343\n",
       "(2, 1)  0.675996  0.100448   7.613958  4.862806\n",
       "(2, 2)  0.285236 -0.236942  19.668519  1.429522\n",
       "(2, 3)  0.037738 -0.197951  20.211208  0.640316\n",
       "(2, 4) -0.321715 -0.452785  23.108176  0.052755\n",
       "(2, 5) -0.659610 -0.573065  27.422907 -0.340528\n",
       "(3, 0)  0.676774 -0.103462  13.103110  0.128318\n",
       "(3, 1) -0.152632  0.223152  21.695415  0.069611\n",
       "(3, 2) -0.413532 -0.180957  26.040941 -0.526882\n",
       "(3, 3) -0.311964 -0.491106  28.006932  0.031119\n",
       "(3, 4) -0.637043 -0.694025  31.942244 -0.778807\n",
       "(3, 5) -0.380045 -0.483281  29.988945 -0.192919\n",
       "(4, 0) -0.358196 -0.129212  24.335118  0.000000\n",
       "(4, 1) -0.288199 -0.204376  31.827228  0.271605\n",
       "(4, 2) -0.897478 -0.827032  33.133774 -0.469388\n",
       "(4, 3) -0.586854 -0.228524  32.869289 -0.376166\n",
       "(4, 4) -0.290685 -0.279759  28.249694 -0.514720\n",
       "(4, 5) -0.215601 -0.254220  25.358545 -0.095735\n",
       "(5, 0) -0.254469 -0.122245   1.802519  0.000000\n",
       "(5, 1) -0.380020 -0.252074   8.919628 -0.126929\n",
       "(5, 2) -0.317282 -0.464785  19.287890  0.000000\n",
       "(5, 3) -0.213675 -0.306569  17.435816 -0.096898\n",
       "(5, 4) -0.300000 -0.215242   6.561587 -0.172363\n",
       "(5, 5) -0.300000 -0.286920   1.024405  0.000000"
      ]
     },
     "execution_count": 960,
     "metadata": {},
     "output_type": "execute_result"
    }
   ],
   "source": [
    "#policy for 10k iter, total state\n",
    "pd.concat([pd.DataFrame.from_dict(qouts5[0], orient='index', columns=['random', 'probs', 'smart', 'exclude']).sort_index(),\n",
    "           pd.DataFrame.from_dict(qouts5[1], orient='index', columns=['random', 'probs', 'smart', 'exclude']).sort_index(),\n",
    "           pd.DataFrame.from_dict(qouts5[2], orient='index', columns=['random', 'probs', 'smart', 'exclude']).sort_index()]).groupby(level=0).mean()"
   ]
  },
  {
   "cell_type": "code",
   "execution_count": 939,
   "metadata": {},
   "outputs": [],
   "source": []
  },
  {
   "cell_type": "code",
   "execution_count": 986,
   "metadata": {},
   "outputs": [
    {
     "data": {
      "text/plain": [
       "Ttest_indResult(statistic=4.564277855507594, pvalue=0.02535871981045415)"
      ]
     },
     "execution_count": 986,
     "metadata": {},
     "output_type": "execute_result"
    }
   ],
   "source": []
  },
  {
   "cell_type": "code",
   "execution_count": 1066,
   "metadata": {},
   "outputs": [
    {
     "name": "stdout",
     "output_type": "stream",
     "text": [
      "num wins on first try: 1\n",
      "num wins on second try: 103\n",
      "num wins on third try: 832\n"
     ]
    }
   ],
   "source": [
    "## count of times hitting on first or second guess\n",
    "print('num wins on first try:', len(np.where(souts8[0].episode_lengths+1==1)[0]))\n",
    "print('num wins on second try:', len(np.where(souts8[0].episode_lengths+1==2)[0]))\n",
    "print('num wins on third try:', len(np.where(souts8[0].episode_lengths+1==3)[0]))\n"
   ]
  },
  {
   "cell_type": "code",
   "execution_count": 1054,
   "metadata": {},
   "outputs": [
    {
     "data": {
      "image/png": "[encoded data removed]",
      "text/plain": [
       "<Figure size 504x360 with 1 Axes>"
      ]
     },
     "metadata": {},
     "output_type": "display_data"
    }
   ],
   "source": [
    "import seaborn as sns\n",
    "plt.rcParams['figure.figsize']=7,5\n",
    "plt.style.use('seaborn-white')\n",
    "#plt.rcParams['axes.facecolor']='white'\n",
    "#plt.rcParams[\"axes.edgecolor\"] = \"black\"\n",
    "#plt.rcParams[\"axes.linewidth\"] = 2\n",
    "labels, counts = np.unique(souts8[0].episode_lengths+1, return_counts=True)\n",
    "plt.bar(labels, counts, align='center', color='steelblue')\n",
    "\n",
    "#plt.hist(s1.episode_lengths+1, bins=10, align='mid')\n",
    "#plt.title('10,000 trials', fontsize=24)\n",
    "plt.xlabel('game length', fontsize=24)\n",
    "plt.ylabel('counts', fontsize=24)\n",
    "plt.gca().set_xticks(labels)\n",
    "plt.xticks(fontsize=24)\n",
    "plt.yticks(fontsize=24)\n",
    "\n",
    "plt.savefig('plots/game_lengths_10k.svg', bbox_inches='tight')"
   ]
  },
  {
   "cell_type": "code",
   "execution_count": 1055,
   "metadata": {},
   "outputs": [
    {
     "data": {
      "image/png": "[encoded data removed]",
      "text/plain": [
       "<Figure size 504x360 with 1 Axes>"
      ]
     },
     "metadata": {},
     "output_type": "display_data"
    }
   ],
   "source": [
    "tmphist = plt.hist(souts3[0].episode_rewards, color='steelblue')\n",
    "plt.xticks(fontsize=24)\n",
    "plt.yticks(fontsize=24)\n",
    "plt.ylabel('count', fontsize=24)\n",
    "plt.xlabel('reward', fontsize=24)\n",
    "#plt.title('10,000 trials', fontsize=24)\n",
    "plt.savefig('plots/rewards-distro_10k.svg', bbox_inches='tight')"
   ]
  }
 ],
 "metadata": {
  "kernelspec": {
   "display_name": "sklearn",
   "language": "python",
   "name": "sklearn"
  },
  "language_info": {
   "codemirror_mode": {
    "name": "ipython",
    "version": 3
   },
   "file_extension": ".py",
   "mimetype": "text/x-python",
   "name": "python",
   "nbconvert_exporter": "python",
   "pygments_lexer": "ipython3",
   "version": "3.7.7"
  }
 },
 "nbformat": 4,
 "nbformat_minor": 4
}
